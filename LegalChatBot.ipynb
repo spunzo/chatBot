{
 "cells": [
  {
   "cell_type": "code",
   "execution_count": null,
   "metadata": {},
   "outputs": [],
   "source": [
    "#!pip install langchain==0.0.228\n",
    "#!pip install cohere\n",
    "# !pip install python-dotenv\n",
    "#!pip install unstructured\n",
    "#!pip install chromadb==0.3.26\n",
    "#!pip install streamlit\n",
    "#!pip install streamlit_chat\n"
   ]
  },
  {
   "cell_type": "code",
   "execution_count": 1,
   "metadata": {},
   "outputs": [],
   "source": [
    "from langchain.embeddings.cohere import CohereEmbeddings\n",
    "from langchain.vectorstores import Chroma\n",
    "from langchain.text_splitter import RecursiveCharacterTextSplitter\n",
    "from langchain.llms import Cohere\n",
    "from langchain.chains import RetrievalQA , LLMChain\n",
    "from langchain.document_loaders import DirectoryLoader\n",
    "from langchain import PromptTemplate,FewShotPromptTemplate\n",
    "import os\n",
    "from langchain.prompts.example_selector import SemanticSimilarityExampleSelector\n",
    "\n"
   ]
  },
  {
   "cell_type": "code",
   "execution_count": 2,
   "metadata": {},
   "outputs": [],
   "source": [
    "from dotenv import load_dotenv\n",
    "import os\n",
    "\n",
    "load_dotenv()\n",
    "\n",
    "openai_api_key = os.getenv('OPENAI_API_KEY', 'YourAPIKeyIfNotSet')"
   ]
  },
  {
   "cell_type": "code",
   "execution_count": 3,
   "metadata": {},
   "outputs": [],
   "source": [
    "cohere_api_key = os.getenv('COHERE_API_KEY', 'YourAPIKeyIfNotSet')"
   ]
  },
  {
   "cell_type": "code",
   "execution_count": 33,
   "metadata": {},
   "outputs": [],
   "source": [
    "inh_loader = DirectoryLoader('./inheritance', glob='*.txt')\n",
    "div_loader = DirectoryLoader('./divorce', glob='*.txt')\n",
    "\n"
   ]
  },
  {
   "cell_type": "code",
   "execution_count": 34,
   "metadata": {},
   "outputs": [],
   "source": [
    "inh_documents = inh_loader.load()\n",
    "div_documents = div_loader.load()"
   ]
  },
  {
   "cell_type": "code",
   "execution_count": null,
   "metadata": {},
   "outputs": [],
   "source": [
    "print(len(inh_documents))\n",
    "print(len(div_documents))"
   ]
  },
  {
   "cell_type": "code",
   "execution_count": 35,
   "metadata": {},
   "outputs": [],
   "source": [
    "text_splitter = RecursiveCharacterTextSplitter(separators=[\"\\n\\n\",\"\\n\"],chunk_size=100, chunk_overlap=0)"
   ]
  },
  {
   "cell_type": "code",
   "execution_count": 36,
   "metadata": {},
   "outputs": [],
   "source": [
    "inh_chunks = text_splitter.split_documents(inh_documents)\n",
    "div_chunks = text_splitter.split_documents(div_documents)\n",
    "\n"
   ]
  },
  {
   "cell_type": "code",
   "execution_count": 38,
   "metadata": {},
   "outputs": [
    {
     "data": {
      "text/plain": [
       "[Document(page_content='\\nCIVIL CODE 465 UNWORTHINESS OF THE PARENT One who is excluded by indignity from the succession does not have on the property thereof which is devolved to his children, the rights of usufruct or administration which the law grants to parents.', metadata={'source': 'inheritance\\\\INHERITANCE.txt'}),\n",
       " Document(page_content='\\nCIVIL CODE 466 REHABILITATION OF THE UNWORTHY A person who has incurred indignity is admitted to succession when the person, whose succession is involved, has expressly enabled him to do so by public deed or will. However, the unworthy person who is not expressly authorized, if he was contemplated in the will when the testator knew the cause of the unworthiness, is admitted to succession within the limits of the testamentary provision.', metadata={'source': 'inheritance\\\\INHERITANCE.txt'}),\n",
       " Document(page_content='\\nCIVIL CODE 467 NOTION Representation causes descendants to succeed to the place and degree of their ascendant in all cases in which the ascendant is unable or unwilling to accept the inheritance or legacy. There is representation in testamentary succession when the testator has not provided for the case in which the person instituted cannot or will not accept the inheritance or legacy, and provided that it is not a legacy of usufruct or other right of a personal nature.', metadata={'source': 'inheritance\\\\INHERITANCE.txt'}),\n",
       " Document(page_content='\\nCIVIL CODE 468 SUBJECTS Representation takes place, in the direct line, in favor of the descendants of the children, including adopted children, and, in the collateral line, in favor of the descendants of the brothers and sisters of the deceased. Descendants may succeed by representation even if they have renounced the inheritance of the person in whose place they succeed, or are incapable or unworthy of succeeding in respect of that person.', metadata={'source': 'inheritance\\\\INHERITANCE.txt'}),\n",
       " Document(page_content='\\nCIVIL CODE 469 EXTENSION OF THE RIGHT OF REPRESENTATION. DIVISION. Representation takes place in infinity, be the degree of descendants and their number in each lineage equal or unequal. Representation also takes place in the case of unicity of lineage. When there is representation, division takes place by lineages. If a lineage has produced several branches, the division takes place by lineages also in each branch, and by heads among the members of the same branch.', metadata={'source': 'inheritance\\\\INHERITANCE.txt'}),\n",
       " Document(page_content='\\nCIVIL CODE 470 PURE AND SIMPLE ACCEPTANCE AND ACCEPTANCE WITH BENEFIT OF INVENTORY The inheritance may be accepted purely and simply or with the benefit of inventory. Acceptance with the benefit of inventory may be made notwithstanding any prohibition of the testator.', metadata={'source': 'inheritance\\\\INHERITANCE.txt'}),\n",
       " Document(page_content='\\nCIVIL CODE 471 INHERITANCES DEVOLVED TO MINORS OR INTERDICTS Inheritances devolved to minors and interdicts can not be accepted except with the benefit of inventory.', metadata={'source': 'inheritance\\\\INHERITANCE.txt'}),\n",
       " Document(page_content='\\nCIVIL CODE 472 INHERITANCES DEVOLVED TO EMANCIPATED MINORS OR INCAPACITATED PERSONS Emancipated minors and incapacitated persons can not accept inheritances except with the benefit of inventory, observing the provisions of ART394.', metadata={'source': 'inheritance\\\\INHERITANCE.txt'}),\n",
       " Document(page_content='\\nCIVIL CODE 473 INHERITANCES DEVOLVED TO LEGAL PERSONS OR TO UNRECOGNIZED ASSOCIATIONS, FOUNDATIONS AND BODIES The acceptance of inheritances devolved to legal persons or to associations, foundations and unrecognized entities is made only with the benefit of inventory. This article does not apply to corporations.', metadata={'source': 'inheritance\\\\INHERITANCE.txt'}),\n",
       " Document(page_content='CIVIL CODE 474 WAYS OF ACCEPTANCE Acceptance may be explicit or tacit.', metadata={'source': 'inheritance\\\\INHERITANCE.txt'})]"
      ]
     },
     "execution_count": 38,
     "metadata": {},
     "output_type": "execute_result"
    }
   ],
   "source": [
    "inh_chunks[10:20]"
   ]
  },
  {
   "cell_type": "code",
   "execution_count": 39,
   "metadata": {},
   "outputs": [
    {
     "data": {
      "text/plain": [
       "[Document(page_content=\"\\nCIVIL CODE 170 EXECUTION ON FUND PROPERTY Execution on the fund's property or its fruits can not be levied for debts which the creditor knew to have been contracted for purposes extraneous to the needs of the family.\", metadata={'source': 'divorce\\\\DIVISION OF ASSETS AFTER DIVORCE.txt'}),\n",
       " Document(page_content='\\nCIVIL CODE 171 TERMINATION OF THE FUND The destination of the fund terminates upon annulment or dissolution or cessation of the civil effects of the marriage. If there are minor children the fund lasts until the last child comes of age. In such a case the court may, at the request of any interested party, lay down rules for the administration of the fund. Having regard to the economic conditions of the parents and the children and any other circumstances, the court may also assign to the children, in enjoyment or ownership, a share in the property of the estate. If there are no children, the provisions on the dissolution of legal community apply.', metadata={'source': 'divorce\\\\DIVISION OF ASSETS AFTER DIVORCE.txt'}),\n",
       " Document(page_content=\"\\nCIVIL CODE 177 OBJECT OF COMMUNITY The goods of the communion are: (a) property acquired by the spouses together or separately during the marriage, except for personal goods; (b) the fruits of the property belonging to each of the spouses, received and not consumed at the dissolution of community; (c) the fruits of a spouse's personal activities provided that, at the time of the dissolution of the community of property, they still exists; (d) companies managed by both spouses and established after the marriage. In the case of companies owned by one of the spouses before the marriage but managed by both, community only concerns profits and increases.\", metadata={'source': 'divorce\\\\DIVISION OF ASSETS AFTER DIVORCE.txt'}),\n",
       " Document(page_content='\\nCIVIL CODE 178 ASSETS INTENDED FOR THE OPERATION OF BUSINESS Assets intended for the operation of the enterprise of one of the spouses set up after the marriage and the assets of the enterprise set up even earlier are considered to be goods of community only if they exist at the time of its dissolution.', metadata={'source': 'divorce\\\\DIVISION OF ASSETS AFTER DIVORCE.txt'}),\n",
       " Document(page_content=\"\\nCIVIL CODE 179 PERSONAL PROPERTY They do not constitute objects of community and are personal property of the spouse: (a) property owned by the spouse before the marriage or had a right in rem to enjoy; (b) property acquired after marriage by way of gift or inheritance, where it is not specified in the gift deed or will that it is to be allocated to the community; (c) property for the strictly personal use of each spouse and its accessories; (d) property used in the exercise of the spouse's profession, except property used for the purpose of running a business forming part of the community; (e) property obtained by way of damages as well as the pension relating to the partial or total loss of the capacity to work; (f) goods acquired with the price of the transfer of the personal property listed above or by exchange thereof, provided that this is expressly stated at the time of purchase. The acquisition of real property, or of movable property listed in Article 2683, made after the marriage, shall be excluded from community of property, within the meaning of points (c), (d) and (f) of the preceding paragraph, where such exclusion is apparent from the deed of acquisition if the other spouse was also a party to it.\", metadata={'source': 'divorce\\\\DIVISION OF ASSETS AFTER DIVORCE.txt'}),\n",
       " Document(page_content='\\nCIVIL CODE 180 ADMINISTRATION OF COMMUNITY PROPERTY The administration of the community property and the representation in court for acts relating thereto belong separately to both spouses. The performance of acts beyond ordinary administration, as well as the conclusion of contracts granting or acquiring personal rights of enjoyment and the representation in court for related actions are jointly entitled to both spouses.', metadata={'source': 'divorce\\\\DIVISION OF ASSETS AFTER DIVORCE.txt'}),\n",
       " Document(page_content='\\nCIVIL CODE 181 REFUSAL OF CONSENT If one of the spouses refuses to give consent for the conclusion of an act of extraordinary administration or for other acts for which consent is required, the other spouse may apply to the court to obtain authorisation if the conclusion of the act is necessary in the interest of the family or the business which, in accordance with Article 177(d), forms part of the community.', metadata={'source': 'divorce\\\\DIVISION OF ASSETS AFTER DIVORCE.txt'}),\n",
       " Document(page_content='\\nCIVIL CODE 182 ADMINISTRATION ENTRUSTED TO ONLY ONE OF THE SPOUSES In the event of the distance or other impediment of one of the spouses, the other, in the absence of a power of attorney(2) from the former evidenced by a public document or by an authenticated private contract, may, with the authorisation of the court and subject to such precautions as the court may prescribe, carry out the necessary acts for which the consent of both spouses is required under Article 180. In the case of joint management of a business, one of the spouses may be delegated by the other to perform all acts necessary for the business.', metadata={'source': 'divorce\\\\DIVISION OF ASSETS AFTER DIVORCE.txt'}),\n",
       " Document(page_content='\\nCIVIL CODE 183 EXCLUSION FROM ADMINISTRATION If one of the spouses is a minor or cannot administer or has mismanaged, the other spouse may ask the court to exclude him/her from the administration. The spouse deprived of the administration may apply to the court for reinstatement if the grounds for exclusion have ceased to exist. The exclusion takes effect as of right with regard to the disqualified spouse and remains in force until the disqualification ceases.', metadata={'source': 'divorce\\\\DIVISION OF ASSETS AFTER DIVORCE.txt'}),\n",
       " Document(page_content=\"\\nCIVIL CODE 184 ACTS PERFORMED WITHOUT THE NECESSARY CONSENT Acts performed by one spouse without the necessary consent of the other spouse and not validated by the latter are voidable if they concern real property or movable property listed in Article 2683 (i.e.,1) ships and floating vessels registered in the registers indicated in the Code of Navigation 2) aircraft entered in the registers indicated in the same code;3) motor vehicles entered in the public register of motor vehicles). The action may be brought by the spouse whose consent was required within one year of the date on which he/she became aware of the act and in any event within one year of the date of transcription. If the act has not been transcribed and the spouse did not have knowledge of it before the dissolution of the community, the action may not be brought later than one year after the dissolution of the community. If the acts relate to movable property other than that referred to in the first paragraph(3), the spouse who has performed them without the consent of the other is obliged, at the latter's request, to restore the community in the state in which it was before the act was performed or, if this is not possible, to pay the equivalent in accordance with the current values at the time of the restoration of community\", metadata={'source': 'divorce\\\\DIVISION OF ASSETS AFTER DIVORCE.txt'})]"
      ]
     },
     "execution_count": 39,
     "metadata": {},
     "output_type": "execute_result"
    }
   ],
   "source": [
    "div_chunks[10:20]"
   ]
  },
  {
   "cell_type": "code",
   "execution_count": 41,
   "metadata": {},
   "outputs": [
    {
     "name": "stdout",
     "output_type": "stream",
     "text": [
      "Now you have 305 documents that have an average of 440 characters (smaller pieces)\n"
     ]
    }
   ],
   "source": [
    "num_total_characters = sum([len(x.page_content) for x in inh_chunks])\n",
    "\n",
    "print (f\"Now you have {len(inh_chunks)} documents that have an average of {num_total_characters / len(inh_chunks):,.0f} characters (smaller pieces)\")"
   ]
  },
  {
   "cell_type": "code",
   "execution_count": 42,
   "metadata": {},
   "outputs": [
    {
     "name": "stdout",
     "output_type": "stream",
     "text": [
      "Now you have 50 documents that have an average of 561 characters (smaller pieces)\n"
     ]
    }
   ],
   "source": [
    "num_total_characters = sum([len(x.page_content) for x in div_chunks])\n",
    "\n",
    "print (f\"Now you have {len(div_chunks)} documents that have an average of {num_total_characters / len(div_chunks):,.0f} characters (smaller pieces)\")"
   ]
  },
  {
   "cell_type": "code",
   "execution_count": 40,
   "metadata": {},
   "outputs": [],
   "source": [
    "from langchain.embeddings import CohereEmbeddings\n",
    "\n",
    "embedder = CohereEmbeddings(model='embed-english-v2.0',cohere_api_key=cohere_api_key)\n"
   ]
  },
  {
   "cell_type": "code",
   "execution_count": 41,
   "metadata": {},
   "outputs": [],
   "source": [
    "inh_persist_dir = 'inh_db'\n",
    "div_persist_dir = 'div_db'"
   ]
  },
  {
   "cell_type": "code",
   "execution_count": 42,
   "metadata": {},
   "outputs": [],
   "source": [
    "inh_docsearch = Chroma.from_documents(documents=inh_chunks, embedding = embedder,persist_directory=inh_persist_dir)\n",
    "inh_docsearch.persist()\n",
    "inh_docsearch = None"
   ]
  },
  {
   "cell_type": "code",
   "execution_count": 43,
   "metadata": {},
   "outputs": [],
   "source": [
    "inh_docsearch = Chroma(persist_directory=inh_persist_dir,embedding_function=embedder)\n"
   ]
  },
  {
   "cell_type": "code",
   "execution_count": 7,
   "metadata": {},
   "outputs": [],
   "source": [
    "inh_retriever = inh_docsearch.as_retriever(search_kwargs={\"k\": 3})\n"
   ]
  },
  {
   "cell_type": "code",
   "execution_count": 44,
   "metadata": {},
   "outputs": [],
   "source": [
    "div_docsearch = Chroma.from_documents(documents=div_chunks, embedding = embedder,persist_directory=div_persist_dir)\n",
    "div_docsearch.persist()\n",
    "div_docsearch = None"
   ]
  },
  {
   "cell_type": "code",
   "execution_count": 8,
   "metadata": {},
   "outputs": [],
   "source": [
    "div_docsearch = Chroma(persist_directory=div_persist_dir,embedding_function=embedder)\n"
   ]
  },
  {
   "cell_type": "code",
   "execution_count": 9,
   "metadata": {},
   "outputs": [],
   "source": [
    "div_retriever = div_docsearch.as_retriever(search_kwargs={\"k\": 3})\n"
   ]
  },
  {
   "cell_type": "code",
   "execution_count": 51,
   "metadata": {},
   "outputs": [
    {
     "data": {
      "text/plain": [
       "[Document(page_content=\"\\nCIVIL PROCEDURE CODE 791 DIVISION PROJECT DRAWN UP BY THE NOTARY The notary draws up single minutes of the transactions carried out. Having drawn up the draft of the shares and lots, if the parties do not agree on it, the notary transmits the minutes to the examining magistrate within five days of their signature. The judge proceeds as in the penultimate paragraph of the preceding article to set the hearing for the parties' appearance and then issue the measures within his jurisdiction pursuant to article 187. Lots may not be extracted except by order of the court made pursuant to the last paragraph of Article 789 or by a final judgment.\", metadata={'source': 'divorce\\\\DIVISION OF ASSETS AFTER DIVORCE.txt'}),\n",
       " Document(page_content=\"\\nCIVIL PROCEDURE CODE 791 DIVISION PROJECT DRAWN UP BY THE NOTARY The notary draws up single minutes of the transactions carried out. Having drawn up the draft of the shares and lots, if the parties do not agree on it, the notary transmits the minutes to the examining magistrate within five days of their signature. The judge proceeds as in the penultimate paragraph of the preceding article to set the hearing for the parties' appearance and then issue the measures within his jurisdiction pursuant to article 187. Lots may not be extracted except by order of the court made pursuant to the last paragraph of Article 789 or by a final judgment.\", metadata={'source': 'divorce\\\\DIVISION OF ASSETS AFTER DIVORCE.txt'}),\n",
       " Document(page_content='\\nCIVIL PROCEDURE CODE 790 DIVISION OPERATIONS BEFORE THE NOTARY If a notary has been delegated to direct the division operations, he gives notice, at least five days in advance, to the joint parties and the intervening creditors of the place, day and hour at which the operations will commence. The proceedings take place in the presence of the parties, assisted, if they so request and at their own expense, by their attorneys. If any dispute arises in the course of the transactions, the notary draws up minutes and transmit them to the examining magistrate. The examining magistrate fixes by decree a hearing for the appearance of the parties, to whom the decree shall be communicated by the Registrar. The court decides on the objections by order.', metadata={'source': 'divorce\\\\DIVISION OF ASSETS AFTER DIVORCE.txt'})]"
      ]
     },
     "execution_count": 51,
     "metadata": {},
     "output_type": "execute_result"
    }
   ],
   "source": [
    "div_retriever.get_relevant_documents(query =\"currency\")"
   ]
  },
  {
   "cell_type": "code",
   "execution_count": null,
   "metadata": {},
   "outputs": [],
   "source": []
  },
  {
   "cell_type": "code",
   "execution_count": 10,
   "metadata": {},
   "outputs": [],
   "source": [
    "llm = Cohere(temperature=0.9,cohere_api_key=cohere_api_key)\n"
   ]
  },
  {
   "cell_type": "code",
   "execution_count": 11,
   "metadata": {},
   "outputs": [],
   "source": [
    "topic_prompt = PromptTemplate(\n",
    "    input_variables=[\"input\", \"output\"],\n",
    "    template=\"Example Input: {input}\\nExample Output: {output}\",\n",
    ")\n",
    "\n",
    "examples = [\n",
    "    {\"input\": \"How is the weather today?\", \"output\": \"OutOfScope\"},\n",
    "    {\"input\": \"I really like eating pizza!\", \"output\": \"OutOfScope\"},\n",
    "    {\"input\": \"Are you a cat-person or a dog-person?\", \"output\": \"OutOfScope\"},\n",
    "    {\"input\": \"Do you like mountain or sea?\", \"output\": \"OutOfScope\"},\n",
    "    {\"input\": \"Can you suggest the most beatiful cities to visit in Italy?\", \"output\": \"OutOfScope\"},\n",
    "    {\"input\": \"What is the currency of Japan?\", \"output\": \"OutOfScope\"},\n",
    "    {\"input\": \"How old is Cristiano Ronaldo?\", \"output\": \"OutOfScope\"},\n",
    "    {\"input\": \"Can you tell me more about this thing?\", \"output\": \"OutOfScope\"},\n",
    "    {\"input\": \"What is America best history site?\", \"output\": \"OutOfScope\"},\n",
    "    {\"input\": \"Today I am sad , can you cheer me up?\", \"output\": \"OutOfScope\"},\n",
    "    {\"input\": \"Can you tell me a joke?\", \"output\": \"OutOfScope\"},\n",
    "    {\"input\": \"I have to divorce from my wife and we have to children , can you give me more information?\", \"output\": \"divorce\"},\n",
    "    {\"input\": \"Me and my wife decided to divorce and we want to know what happens to our 5 mutually owned shops\", \"output\": \"divorce\"},\n",
    "    {\"input\": \"What happens to a family when the parents divorce and they have 2 house a 1 children involved? \", \"output\": \"divorce\"},\n",
    "    {\"input\": \"My grandmother has passed away recently and she inserted me in her final will , what happens now?\", \"output\": \"inheritance\"},\n",
    "    {\"input\": \"My husband died yesterday and my son want to know what should we do with his assets \", \"output\": \"inheritance\"},\n",
    "    {\"input\": \"I am a new legal assistant and I want to learn more about what occurs when a father decide to exclude his son from his will , is there a way to oppose to that?\", \"output\": \"inheritance\"},\n",
    "    {\"input\": \"There is a little baby whose parents don't want to feed anymore because they are separating, what can we do to help her?\", \"output\": \"divorce\"},\n",
    "    {\"input\": \"I am a very old person and I need to write my will , can you tell me more about how to make a will?\", \"output\": \"inheritance\"},\n",
    "]\n"
   ]
  },
  {
   "cell_type": "code",
   "execution_count": 12,
   "metadata": {},
   "outputs": [],
   "source": [
    "\n",
    "example_selector = SemanticSimilarityExampleSelector.from_examples(\n",
    "    # This is the list of examples available to select from.\n",
    "    examples, \n",
    "    \n",
    "    # This is the embedding class used to produce embeddings which are used to measure semantic similarity.\n",
    "    embedder, \n",
    "    \n",
    "    # This is the VectorStore class that is used to store the embeddings and do a similarity search over.\n",
    "    Chroma, \n",
    "    \n",
    "    # This is the number of examples to produce.\n",
    "    k=4\n",
    ")"
   ]
  },
  {
   "cell_type": "code",
   "execution_count": 13,
   "metadata": {},
   "outputs": [],
   "source": [
    "topics = \"divorce,inheritance,OutOfScope\""
   ]
  },
  {
   "cell_type": "code",
   "execution_count": 14,
   "metadata": {},
   "outputs": [],
   "source": [
    "topic_prompt = FewShotPromptTemplate(\n",
    "    # The object that will help select examples\n",
    "    example_selector=example_selector,\n",
    "    \n",
    "    # Your prompt\n",
    "    example_prompt=topic_prompt,\n",
    "    \n",
    "    # Customizations that will be added to the top and bottom of your prompt\n",
    "    prefix=\"\"\"You will be given a question and you have to understand to which topic it belongs. The possible topics are {topics} and you will provide as output the topic the question belongs too.\n",
    "If you don't know which topics it belongs you should output 'OutOfScope'. You will be given examples to better understand how to find the right topic.\"\"\",\n",
    "    suffix=\"Input: {question}\\nOutput:\",\n",
    "    \n",
    "    # What inputs your prompt will receive\n",
    "    input_variables=[\"question\",\"topics\"],\n",
    ")"
   ]
  },
  {
   "cell_type": "code",
   "execution_count": 15,
   "metadata": {},
   "outputs": [
    {
     "name": "stdout",
     "output_type": "stream",
     "text": [
      "You will be given a question and you have to understand to which topic it belongs. The possible topics are divorce,inheritance,OutOfScope and you will provide as output the topic the question belongs too.\n",
      "If you don't know which topics it belongs you should output 'OutOfScope'. You will be given examples to better understand how to find the right topic.\n",
      "\n",
      "Example Input: What is America best history site?\n",
      "Example Output: OutOfScope\n",
      "\n",
      "Example Input: I have to divorce from my wife and we have to children , can you give me more information?\n",
      "Example Output: divorce\n",
      "\n",
      "Example Input: I am a new legal assistant and I want to learn more about what occurs when a father decide to exclude his son from his will , is there a way to oppose to that?\n",
      "Example Output: inheritance\n",
      "\n",
      "Example Input: Can you tell me more about this thing?\n",
      "Example Output: OutOfScope\n",
      "\n",
      "Input: What is America finest history site?\n",
      "Output:\n"
     ]
    }
   ],
   "source": [
    "print(topic_prompt.format(question=\"What is America finest history site?\",topics=topics))"
   ]
  },
  {
   "cell_type": "code",
   "execution_count": 17,
   "metadata": {},
   "outputs": [
    {
     "data": {
      "text/plain": [
       "' OutOfScope'"
      ]
     },
     "execution_count": 17,
     "metadata": {},
     "output_type": "execute_result"
    }
   ],
   "source": [
    "llm(topic_prompt.format(question=\"How many laws regulates the fraud?\",topics=topics))"
   ]
  },
  {
   "cell_type": "code",
   "execution_count": 83,
   "metadata": {},
   "outputs": [],
   "source": [
    "template_inh = \"\"\" You are playing the role of an expert legal assistant in the Italian Laws regulating Inheritance.\n",
    "You will be given the most relevant documents related to a question and you have to examine these documents content and try to summarize an answer based on those.\n",
    "Do not try to force an answer , just say you don't know if you are not sure.\n",
    "\n",
    "You will be provided with previous messages of the conversation : \n",
    "{chat_history}\n",
    "\n",
    "You will be also provided with some context to base your answer. This is the part you should focus on when drafting your question.\n",
    "{context}\n",
    "\n",
    "Question: {question}\n",
    "\n",
    "Answer: \"\"\"\n",
    "\n",
    "prompt_inh = PromptTemplate(template=template_inh, input_variables=[\"question\",\"context\",\"chat_history\"])\n",
    "\n",
    "inh_kwargs = {\"prompt\": prompt_inh}"
   ]
  },
  {
   "cell_type": "code",
   "execution_count": 84,
   "metadata": {},
   "outputs": [],
   "source": [
    "template_div = \"\"\" You are playing the role of an expert legal assistant in the Italian Laws regulating Division of Assests after Divorce.\n",
    "You will be given the most relevant documents related to a question and you have to examine these documents content and try to summarize an answer based on those.\n",
    "Do not try to force an answer , just say you don't know if you are not sure.\n",
    "\n",
    "You will be provided with previous messages of the conversation : \n",
    "{chat_history}\n",
    "\n",
    "You will be also provided with some context to base your answer. This is the part you should focus on when drafting your question.\n",
    "{context}\n",
    "\n",
    "Question: {question}\n",
    "\n",
    "Answer: \"\"\"\n",
    "\n",
    "prompt_div = PromptTemplate(template=template_div, input_variables=[\"question\",\"context\",\"chat_history\"])\n",
    "\n",
    "div_kwargs = {\"prompt\": prompt_div}"
   ]
  },
  {
   "cell_type": "code",
   "execution_count": 18,
   "metadata": {},
   "outputs": [],
   "source": [
    "from langchain.chains import LLMChain\n",
    "\n",
    "topic_chain  = LLMChain(llm=llm,prompt=topic_prompt)"
   ]
  },
  {
   "cell_type": "code",
   "execution_count": 25,
   "metadata": {},
   "outputs": [],
   "source": [
    "myQuestion=\"Do you have a soul?\""
   ]
  },
  {
   "cell_type": "code",
   "execution_count": 26,
   "metadata": {},
   "outputs": [],
   "source": [
    "response = topic_chain.run({\"question\":myQuestion , \"topics\":topics})"
   ]
  },
  {
   "cell_type": "code",
   "execution_count": 27,
   "metadata": {},
   "outputs": [
    {
     "data": {
      "text/plain": [
       "' OutOfScope'"
      ]
     },
     "execution_count": 27,
     "metadata": {},
     "output_type": "execute_result"
    }
   ],
   "source": [
    "response"
   ]
  },
  {
   "cell_type": "code",
   "execution_count": null,
   "metadata": {},
   "outputs": [],
   "source": []
  },
  {
   "cell_type": "code",
   "execution_count": 85,
   "metadata": {},
   "outputs": [],
   "source": [
    "from langchain.memory import ConversationBufferWindowMemory\n",
    "\n",
    "memory_div = ConversationBufferWindowMemory(memory_key='chat_history', return_messages=True,input_key='question',k=2)\n",
    "memory_inh = ConversationBufferWindowMemory(memory_key='chat_history', return_messages=True,input_key='question')"
   ]
  },
  {
   "cell_type": "code",
   "execution_count": 86,
   "metadata": {},
   "outputs": [],
   "source": [
    "divorce_question_chain = LLMChain(llm = llm , prompt=prompt_div)\n",
    "inheritance_question_chain = LLMChain(llm = llm , prompt=prompt_inh)"
   ]
  },
  {
   "cell_type": "code",
   "execution_count": 87,
   "metadata": {},
   "outputs": [],
   "source": [
    "from langchain.chains import ConversationalRetrievalChain\n",
    "\n",
    "inheritance = ConversationalRetrievalChain.from_llm(\n",
    "    llm = llm,\n",
    "    chain_type='stuff',\n",
    "    memory = memory_inh,\n",
    "    retriever=inh_retriever,\n",
    "    condense_question_llm=llm,\n",
    "    return_source_documents=True,\n",
    "    verbose=True)\n",
    "\n",
    "divorce = ConversationalRetrievalChain.from_llm(\n",
    "    llm = llm,\n",
    "    chain_type='stuff',\n",
    "    memory = memory_div,\n",
    "    retriever=div_retriever,\n",
    "    condense_question_llm=llm,\n",
    "    return_source_documents=True,\n",
    "    verbose=True)"
   ]
  },
  {
   "cell_type": "code",
   "execution_count": 88,
   "metadata": {},
   "outputs": [
    {
     "data": {
      "text/plain": [
       "langchain.chains.conversational_retrieval.base.ConversationalRetrievalChain"
      ]
     },
     "execution_count": 88,
     "metadata": {},
     "output_type": "execute_result"
    }
   ],
   "source": [
    "type(inheritance)"
   ]
  },
  {
   "cell_type": "code",
   "execution_count": 89,
   "metadata": {},
   "outputs": [
    {
     "name": "stdout",
     "output_type": "stream",
     "text": [
      "\n",
      "\n",
      "\u001b[1m> Entering new  chain...\u001b[0m\n",
      "\n",
      "\n",
      "\u001b[1m> Entering new  chain...\u001b[0m\n",
      "Prompt after formatting:\n",
      "\u001b[32;1m\u001b[1;3mUse the following pieces of context to answer the question at the end. If you don't know the answer, just say that you don't know, don't try to make up an answer.\n",
      "\n",
      "\n",
      "CIVIL CODE 465 UNWORTHINESS OF THE PARENT One who is excluded by indignity from the succession does not have on the property thereof which is devolved to his children, the rights of usufruct or administration which the law grants to parents.\n",
      "\n",
      "\n",
      "CIVIL CODE 465 UNWORTHINESS OF THE PARENT One who is excluded by indignity from the succession does not have on the property thereof which is devolved to his children, the rights of usufruct or administration which the law grants to parents.\n",
      "\n",
      "\n",
      "CIVIL CODE 568 SUCCESSION OF PARENTS A person who dies without leaving children, nor brothers or sisters or their descendants, is succeeded by his father and mother in equal portions, or by the surviving parent.\n",
      "\n",
      "Question: What happens when my mother exclude me from her will?\n",
      "Helpful Answer:\u001b[0m\n",
      "\n",
      "\u001b[1m> Finished chain.\u001b[0m\n",
      "\n",
      "\u001b[1m> Finished chain.\u001b[0m\n"
     ]
    },
    {
     "ename": "ValueError",
     "evalue": "One output key expected, got dict_keys(['answer', 'source_documents'])",
     "output_type": "error",
     "traceback": [
      "\u001b[1;31m---------------------------------------------------------------------------\u001b[0m",
      "\u001b[1;31mValueError\u001b[0m                                Traceback (most recent call last)",
      "Cell \u001b[1;32mIn[89], line 1\u001b[0m\n\u001b[1;32m----> 1\u001b[0m response \u001b[39m=\u001b[39m inheritance( {\u001b[39m\"\u001b[39;49m\u001b[39mquestion\u001b[39;49m\u001b[39m\"\u001b[39;49m:\u001b[39m\"\u001b[39;49m\u001b[39mWhat happens when my mother exclude me from her will?\u001b[39;49m\u001b[39m\"\u001b[39;49m})\n",
      "File \u001b[1;32mc:\\PROGETTI\\uni\\myChatBot\\chat\\Lib\\site-packages\\langchain\\chains\\base.py:245\u001b[0m, in \u001b[0;36mChain.__call__\u001b[1;34m(self, inputs, return_only_outputs, callbacks, tags, metadata, include_run_info)\u001b[0m\n\u001b[0;32m    243\u001b[0m     \u001b[39mraise\u001b[39;00m e\n\u001b[0;32m    244\u001b[0m run_manager\u001b[39m.\u001b[39mon_chain_end(outputs)\n\u001b[1;32m--> 245\u001b[0m final_outputs: Dict[\u001b[39mstr\u001b[39m, Any] \u001b[39m=\u001b[39m \u001b[39mself\u001b[39;49m\u001b[39m.\u001b[39;49mprep_outputs(\n\u001b[0;32m    246\u001b[0m     inputs, outputs, return_only_outputs\n\u001b[0;32m    247\u001b[0m )\n\u001b[0;32m    248\u001b[0m \u001b[39mif\u001b[39;00m include_run_info:\n\u001b[0;32m    249\u001b[0m     final_outputs[RUN_KEY] \u001b[39m=\u001b[39m RunInfo(run_id\u001b[39m=\u001b[39mrun_manager\u001b[39m.\u001b[39mrun_id)\n",
      "File \u001b[1;32mc:\\PROGETTI\\uni\\myChatBot\\chat\\Lib\\site-packages\\langchain\\chains\\base.py:339\u001b[0m, in \u001b[0;36mChain.prep_outputs\u001b[1;34m(self, inputs, outputs, return_only_outputs)\u001b[0m\n\u001b[0;32m    337\u001b[0m \u001b[39mself\u001b[39m\u001b[39m.\u001b[39m_validate_outputs(outputs)\n\u001b[0;32m    338\u001b[0m \u001b[39mif\u001b[39;00m \u001b[39mself\u001b[39m\u001b[39m.\u001b[39mmemory \u001b[39mis\u001b[39;00m \u001b[39mnot\u001b[39;00m \u001b[39mNone\u001b[39;00m:\n\u001b[1;32m--> 339\u001b[0m     \u001b[39mself\u001b[39;49m\u001b[39m.\u001b[39;49mmemory\u001b[39m.\u001b[39;49msave_context(inputs, outputs)\n\u001b[0;32m    340\u001b[0m \u001b[39mif\u001b[39;00m return_only_outputs:\n\u001b[0;32m    341\u001b[0m     \u001b[39mreturn\u001b[39;00m outputs\n",
      "File \u001b[1;32mc:\\PROGETTI\\uni\\myChatBot\\chat\\Lib\\site-packages\\langchain\\memory\\chat_memory.py:34\u001b[0m, in \u001b[0;36mBaseChatMemory.save_context\u001b[1;34m(self, inputs, outputs)\u001b[0m\n\u001b[0;32m     32\u001b[0m \u001b[39mdef\u001b[39;00m \u001b[39msave_context\u001b[39m(\u001b[39mself\u001b[39m, inputs: Dict[\u001b[39mstr\u001b[39m, Any], outputs: Dict[\u001b[39mstr\u001b[39m, \u001b[39mstr\u001b[39m]) \u001b[39m-\u001b[39m\u001b[39m>\u001b[39m \u001b[39mNone\u001b[39;00m:\n\u001b[0;32m     33\u001b[0m \u001b[39m    \u001b[39m\u001b[39m\"\"\"Save context from this conversation to buffer.\"\"\"\u001b[39;00m\n\u001b[1;32m---> 34\u001b[0m     input_str, output_str \u001b[39m=\u001b[39m \u001b[39mself\u001b[39;49m\u001b[39m.\u001b[39;49m_get_input_output(inputs, outputs)\n\u001b[0;32m     35\u001b[0m     \u001b[39mself\u001b[39m\u001b[39m.\u001b[39mchat_memory\u001b[39m.\u001b[39madd_user_message(input_str)\n\u001b[0;32m     36\u001b[0m     \u001b[39mself\u001b[39m\u001b[39m.\u001b[39mchat_memory\u001b[39m.\u001b[39madd_ai_message(output_str)\n",
      "File \u001b[1;32mc:\\PROGETTI\\uni\\myChatBot\\chat\\Lib\\site-packages\\langchain\\memory\\chat_memory.py:26\u001b[0m, in \u001b[0;36mBaseChatMemory._get_input_output\u001b[1;34m(self, inputs, outputs)\u001b[0m\n\u001b[0;32m     24\u001b[0m \u001b[39mif\u001b[39;00m \u001b[39mself\u001b[39m\u001b[39m.\u001b[39moutput_key \u001b[39mis\u001b[39;00m \u001b[39mNone\u001b[39;00m:\n\u001b[0;32m     25\u001b[0m     \u001b[39mif\u001b[39;00m \u001b[39mlen\u001b[39m(outputs) \u001b[39m!=\u001b[39m \u001b[39m1\u001b[39m:\n\u001b[1;32m---> 26\u001b[0m         \u001b[39mraise\u001b[39;00m \u001b[39mValueError\u001b[39;00m(\u001b[39mf\u001b[39m\u001b[39m\"\u001b[39m\u001b[39mOne output key expected, got \u001b[39m\u001b[39m{\u001b[39;00moutputs\u001b[39m.\u001b[39mkeys()\u001b[39m}\u001b[39;00m\u001b[39m\"\u001b[39m)\n\u001b[0;32m     27\u001b[0m     output_key \u001b[39m=\u001b[39m \u001b[39mlist\u001b[39m(outputs\u001b[39m.\u001b[39mkeys())[\u001b[39m0\u001b[39m]\n\u001b[0;32m     28\u001b[0m \u001b[39melse\u001b[39;00m:\n",
      "\u001b[1;31mValueError\u001b[0m: One output key expected, got dict_keys(['answer', 'source_documents'])"
     ]
    }
   ],
   "source": [
    "response = inheritance( {\"question\":\"What happens when my mother exclude me from her will?\"})"
   ]
  },
  {
   "cell_type": "code",
   "execution_count": 78,
   "metadata": {},
   "outputs": [
    {
     "data": {
      "text/plain": [
       "{'question': 'What happens when my mother exclude me from her will?',\n",
       " 'chat_history': [HumanMessage(content='What happens when my mother exclude me from her will?', additional_kwargs={}, example=False),\n",
       "  AIMessage(content=' If your mother excluded you from her will, you would not be entitled to any rights of usufruct or administration over her property. ', additional_kwargs={}, example=False)],\n",
       " 'answer': ' If your mother excluded you from her will, you would not be entitled to any rights of usufruct or administration over her property. ',\n",
       " 'source_documents': [Document(page_content='\\nCIVIL CODE 465 UNWORTHINESS OF THE PARENT One who is excluded by indignity from the succession does not have on the property thereof which is devolved to his children, the rights of usufruct or administration which the law grants to parents.', metadata={'source': 'inheritance\\\\INHERITANCE.txt'}),\n",
       "  Document(page_content='\\nCIVIL CODE 465 UNWORTHINESS OF THE PARENT One who is excluded by indignity from the succession does not have on the property thereof which is devolved to his children, the rights of usufruct or administration which the law grants to parents.', metadata={'source': 'inheritance\\\\INHERITANCE.txt'}),\n",
       "  Document(page_content='\\nCIVIL CODE 568 SUCCESSION OF PARENTS A person who dies without leaving children, nor brothers or sisters or their descendants, is succeeded by his father and mother in equal portions, or by the surviving parent.', metadata={'source': 'inheritance\\\\INHERITANCE.txt'})]}"
      ]
     },
     "execution_count": 78,
     "metadata": {},
     "output_type": "execute_result"
    }
   ],
   "source": [
    "response"
   ]
  },
  {
   "cell_type": "code",
   "execution_count": 81,
   "metadata": {},
   "outputs": [
    {
     "ename": "ValueError",
     "evalue": "Missing some input keys: {'context'}",
     "output_type": "error",
     "traceback": [
      "\u001b[1;31m---------------------------------------------------------------------------\u001b[0m",
      "\u001b[1;31mValueError\u001b[0m                                Traceback (most recent call last)",
      "Cell \u001b[1;32mIn[81], line 1\u001b[0m\n\u001b[1;32m----> 1\u001b[0m response \u001b[39m=\u001b[39m inheritance( {\u001b[39m\"\u001b[39;49m\u001b[39mquestion\u001b[39;49m\u001b[39m\"\u001b[39;49m:\u001b[39m\"\u001b[39;49m\u001b[39mWhat happens when my mother exclude me from her will?\u001b[39;49m\u001b[39m\"\u001b[39;49m})\n",
      "File \u001b[1;32mc:\\PROGETTI\\uni\\myChatBot\\chat\\Lib\\site-packages\\langchain\\chains\\base.py:243\u001b[0m, in \u001b[0;36mChain.__call__\u001b[1;34m(self, inputs, return_only_outputs, callbacks, tags, metadata, include_run_info)\u001b[0m\n\u001b[0;32m    241\u001b[0m \u001b[39mexcept\u001b[39;00m (\u001b[39mKeyboardInterrupt\u001b[39;00m, \u001b[39mException\u001b[39;00m) \u001b[39mas\u001b[39;00m e:\n\u001b[0;32m    242\u001b[0m     run_manager\u001b[39m.\u001b[39mon_chain_error(e)\n\u001b[1;32m--> 243\u001b[0m     \u001b[39mraise\u001b[39;00m e\n\u001b[0;32m    244\u001b[0m run_manager\u001b[39m.\u001b[39mon_chain_end(outputs)\n\u001b[0;32m    245\u001b[0m final_outputs: Dict[\u001b[39mstr\u001b[39m, Any] \u001b[39m=\u001b[39m \u001b[39mself\u001b[39m\u001b[39m.\u001b[39mprep_outputs(\n\u001b[0;32m    246\u001b[0m     inputs, outputs, return_only_outputs\n\u001b[0;32m    247\u001b[0m )\n",
      "File \u001b[1;32mc:\\PROGETTI\\uni\\myChatBot\\chat\\Lib\\site-packages\\langchain\\chains\\base.py:237\u001b[0m, in \u001b[0;36mChain.__call__\u001b[1;34m(self, inputs, return_only_outputs, callbacks, tags, metadata, include_run_info)\u001b[0m\n\u001b[0;32m    231\u001b[0m run_manager \u001b[39m=\u001b[39m callback_manager\u001b[39m.\u001b[39mon_chain_start(\n\u001b[0;32m    232\u001b[0m     dumpd(\u001b[39mself\u001b[39m),\n\u001b[0;32m    233\u001b[0m     inputs,\n\u001b[0;32m    234\u001b[0m )\n\u001b[0;32m    235\u001b[0m \u001b[39mtry\u001b[39;00m:\n\u001b[0;32m    236\u001b[0m     outputs \u001b[39m=\u001b[39m (\n\u001b[1;32m--> 237\u001b[0m         \u001b[39mself\u001b[39;49m\u001b[39m.\u001b[39;49m_call(inputs, run_manager\u001b[39m=\u001b[39;49mrun_manager)\n\u001b[0;32m    238\u001b[0m         \u001b[39mif\u001b[39;00m new_arg_supported\n\u001b[0;32m    239\u001b[0m         \u001b[39melse\u001b[39;00m \u001b[39mself\u001b[39m\u001b[39m.\u001b[39m_call(inputs)\n\u001b[0;32m    240\u001b[0m     )\n\u001b[0;32m    241\u001b[0m \u001b[39mexcept\u001b[39;00m (\u001b[39mKeyboardInterrupt\u001b[39;00m, \u001b[39mException\u001b[39;00m) \u001b[39mas\u001b[39;00m e:\n\u001b[0;32m    242\u001b[0m     run_manager\u001b[39m.\u001b[39mon_chain_error(e)\n",
      "File \u001b[1;32mc:\\PROGETTI\\uni\\myChatBot\\chat\\Lib\\site-packages\\langchain\\chains\\conversational_retrieval\\base.py:126\u001b[0m, in \u001b[0;36mBaseConversationalRetrievalChain._call\u001b[1;34m(self, inputs, run_manager)\u001b[0m\n\u001b[0;32m    124\u001b[0m \u001b[39mif\u001b[39;00m chat_history_str:\n\u001b[0;32m    125\u001b[0m     callbacks \u001b[39m=\u001b[39m _run_manager\u001b[39m.\u001b[39mget_child()\n\u001b[1;32m--> 126\u001b[0m     new_question \u001b[39m=\u001b[39m \u001b[39mself\u001b[39;49m\u001b[39m.\u001b[39;49mquestion_generator\u001b[39m.\u001b[39;49mrun(\n\u001b[0;32m    127\u001b[0m         question\u001b[39m=\u001b[39;49mquestion, chat_history\u001b[39m=\u001b[39;49mchat_history_str, callbacks\u001b[39m=\u001b[39;49mcallbacks\n\u001b[0;32m    128\u001b[0m     )\n\u001b[0;32m    129\u001b[0m \u001b[39melse\u001b[39;00m:\n\u001b[0;32m    130\u001b[0m     new_question \u001b[39m=\u001b[39m question\n",
      "File \u001b[1;32mc:\\PROGETTI\\uni\\myChatBot\\chat\\Lib\\site-packages\\langchain\\chains\\base.py:445\u001b[0m, in \u001b[0;36mChain.run\u001b[1;34m(self, callbacks, tags, metadata, *args, **kwargs)\u001b[0m\n\u001b[0;32m    440\u001b[0m     \u001b[39mreturn\u001b[39;00m \u001b[39mself\u001b[39m(args[\u001b[39m0\u001b[39m], callbacks\u001b[39m=\u001b[39mcallbacks, tags\u001b[39m=\u001b[39mtags, metadata\u001b[39m=\u001b[39mmetadata)[\n\u001b[0;32m    441\u001b[0m         _output_key\n\u001b[0;32m    442\u001b[0m     ]\n\u001b[0;32m    444\u001b[0m \u001b[39mif\u001b[39;00m kwargs \u001b[39mand\u001b[39;00m \u001b[39mnot\u001b[39;00m args:\n\u001b[1;32m--> 445\u001b[0m     \u001b[39mreturn\u001b[39;00m \u001b[39mself\u001b[39;49m(kwargs, callbacks\u001b[39m=\u001b[39;49mcallbacks, tags\u001b[39m=\u001b[39;49mtags, metadata\u001b[39m=\u001b[39;49mmetadata)[\n\u001b[0;32m    446\u001b[0m         _output_key\n\u001b[0;32m    447\u001b[0m     ]\n\u001b[0;32m    449\u001b[0m \u001b[39mif\u001b[39;00m \u001b[39mnot\u001b[39;00m kwargs \u001b[39mand\u001b[39;00m \u001b[39mnot\u001b[39;00m args:\n\u001b[0;32m    450\u001b[0m     \u001b[39mraise\u001b[39;00m \u001b[39mValueError\u001b[39;00m(\n\u001b[0;32m    451\u001b[0m         \u001b[39m\"\u001b[39m\u001b[39m`run` supported with either positional arguments or keyword arguments,\u001b[39m\u001b[39m\"\u001b[39m\n\u001b[0;32m    452\u001b[0m         \u001b[39m\"\u001b[39m\u001b[39m but none were provided.\u001b[39m\u001b[39m\"\u001b[39m\n\u001b[0;32m    453\u001b[0m     )\n",
      "File \u001b[1;32mc:\\PROGETTI\\uni\\myChatBot\\chat\\Lib\\site-packages\\langchain\\chains\\base.py:220\u001b[0m, in \u001b[0;36mChain.__call__\u001b[1;34m(self, inputs, return_only_outputs, callbacks, tags, metadata, include_run_info)\u001b[0m\n\u001b[0;32m    185\u001b[0m \u001b[39mdef\u001b[39;00m \u001b[39m__call__\u001b[39m(\n\u001b[0;32m    186\u001b[0m     \u001b[39mself\u001b[39m,\n\u001b[0;32m    187\u001b[0m     inputs: Union[Dict[\u001b[39mstr\u001b[39m, Any], Any],\n\u001b[1;32m   (...)\u001b[0m\n\u001b[0;32m    193\u001b[0m     include_run_info: \u001b[39mbool\u001b[39m \u001b[39m=\u001b[39m \u001b[39mFalse\u001b[39;00m,\n\u001b[0;32m    194\u001b[0m ) \u001b[39m-\u001b[39m\u001b[39m>\u001b[39m Dict[\u001b[39mstr\u001b[39m, Any]:\n\u001b[0;32m    195\u001b[0m \u001b[39m    \u001b[39m\u001b[39m\"\"\"Execute the chain.\u001b[39;00m\n\u001b[0;32m    196\u001b[0m \n\u001b[0;32m    197\u001b[0m \u001b[39m    Args:\u001b[39;00m\n\u001b[1;32m   (...)\u001b[0m\n\u001b[0;32m    218\u001b[0m \u001b[39m            `Chain.output_keys`.\u001b[39;00m\n\u001b[0;32m    219\u001b[0m \u001b[39m    \"\"\"\u001b[39;00m\n\u001b[1;32m--> 220\u001b[0m     inputs \u001b[39m=\u001b[39m \u001b[39mself\u001b[39;49m\u001b[39m.\u001b[39;49mprep_inputs(inputs)\n\u001b[0;32m    221\u001b[0m     callback_manager \u001b[39m=\u001b[39m CallbackManager\u001b[39m.\u001b[39mconfigure(\n\u001b[0;32m    222\u001b[0m         callbacks,\n\u001b[0;32m    223\u001b[0m         \u001b[39mself\u001b[39m\u001b[39m.\u001b[39mcallbacks,\n\u001b[1;32m   (...)\u001b[0m\n\u001b[0;32m    228\u001b[0m         \u001b[39mself\u001b[39m\u001b[39m.\u001b[39mmetadata,\n\u001b[0;32m    229\u001b[0m     )\n\u001b[0;32m    230\u001b[0m     new_arg_supported \u001b[39m=\u001b[39m inspect\u001b[39m.\u001b[39msignature(\u001b[39mself\u001b[39m\u001b[39m.\u001b[39m_call)\u001b[39m.\u001b[39mparameters\u001b[39m.\u001b[39mget(\u001b[39m\"\u001b[39m\u001b[39mrun_manager\u001b[39m\u001b[39m\"\u001b[39m)\n",
      "File \u001b[1;32mc:\\PROGETTI\\uni\\myChatBot\\chat\\Lib\\site-packages\\langchain\\chains\\base.py:374\u001b[0m, in \u001b[0;36mChain.prep_inputs\u001b[1;34m(self, inputs)\u001b[0m\n\u001b[0;32m    372\u001b[0m     external_context \u001b[39m=\u001b[39m \u001b[39mself\u001b[39m\u001b[39m.\u001b[39mmemory\u001b[39m.\u001b[39mload_memory_variables(inputs)\n\u001b[0;32m    373\u001b[0m     inputs \u001b[39m=\u001b[39m \u001b[39mdict\u001b[39m(inputs, \u001b[39m*\u001b[39m\u001b[39m*\u001b[39mexternal_context)\n\u001b[1;32m--> 374\u001b[0m \u001b[39mself\u001b[39;49m\u001b[39m.\u001b[39;49m_validate_inputs(inputs)\n\u001b[0;32m    375\u001b[0m \u001b[39mreturn\u001b[39;00m inputs\n",
      "File \u001b[1;32mc:\\PROGETTI\\uni\\myChatBot\\chat\\Lib\\site-packages\\langchain\\chains\\base.py:132\u001b[0m, in \u001b[0;36mChain._validate_inputs\u001b[1;34m(self, inputs)\u001b[0m\n\u001b[0;32m    130\u001b[0m missing_keys \u001b[39m=\u001b[39m \u001b[39mset\u001b[39m(\u001b[39mself\u001b[39m\u001b[39m.\u001b[39minput_keys)\u001b[39m.\u001b[39mdifference(inputs)\n\u001b[0;32m    131\u001b[0m \u001b[39mif\u001b[39;00m missing_keys:\n\u001b[1;32m--> 132\u001b[0m     \u001b[39mraise\u001b[39;00m \u001b[39mValueError\u001b[39;00m(\u001b[39mf\u001b[39m\u001b[39m\"\u001b[39m\u001b[39mMissing some input keys: \u001b[39m\u001b[39m{\u001b[39;00mmissing_keys\u001b[39m}\u001b[39;00m\u001b[39m\"\u001b[39m)\n",
      "\u001b[1;31mValueError\u001b[0m: Missing some input keys: {'context'}"
     ]
    }
   ],
   "source": [
    "response = inheritance( {\"question\":\"What happens when my mother exclude me from her will?\"})"
   ]
  },
  {
   "cell_type": "code",
   "execution_count": 80,
   "metadata": {},
   "outputs": [
    {
     "data": {
      "text/plain": [
       "{'question': 'What happens when my mother exclude me from her will?',\n",
       " 'chat_history': [HumanMessage(content='What happens when my mother exclude me from her will?', additional_kwargs={}, example=False),\n",
       "  AIMessage(content=' If your mother excluded you from her will, you would not be entitled to any rights of usufruct or administration over her property. ', additional_kwargs={}, example=False)],\n",
       " 'answer': ' If your mother excluded you from her will, you would not be entitled to any rights of usufruct or administration over her property. ',\n",
       " 'source_documents': [Document(page_content='\\nCIVIL CODE 465 UNWORTHINESS OF THE PARENT One who is excluded by indignity from the succession does not have on the property thereof which is devolved to his children, the rights of usufruct or administration which the law grants to parents.', metadata={'source': 'inheritance\\\\INHERITANCE.txt'}),\n",
       "  Document(page_content='\\nCIVIL CODE 465 UNWORTHINESS OF THE PARENT One who is excluded by indignity from the succession does not have on the property thereof which is devolved to his children, the rights of usufruct or administration which the law grants to parents.', metadata={'source': 'inheritance\\\\INHERITANCE.txt'}),\n",
       "  Document(page_content='\\nCIVIL CODE 568 SUCCESSION OF PARENTS A person who dies without leaving children, nor brothers or sisters or their descendants, is succeeded by his father and mother in equal portions, or by the surviving parent.', metadata={'source': 'inheritance\\\\INHERITANCE.txt'})]}"
      ]
     },
     "execution_count": 80,
     "metadata": {},
     "output_type": "execute_result"
    }
   ],
   "source": [
    "response"
   ]
  },
  {
   "cell_type": "code",
   "execution_count": 26,
   "metadata": {},
   "outputs": [],
   "source": [
    "def extract_source_documents(response : dict):\n",
    "    source_documents = [elem.page_content for elem in response[\"source_documents\"]]\n",
    "    relevant_documents =[\" \".join(elem.split()[:3]) for elem in source_documents]\n",
    "    return relevant_documents\n",
    "\n",
    "def extract_text(response):\n",
    "    return response[\"text\"]\n"
   ]
  },
  {
   "cell_type": "code",
   "execution_count": 39,
   "metadata": {},
   "outputs": [
    {
     "data": {
      "text/plain": [
       "['CIVIL CODE 696', 'CIVIL CODE 734', 'CIVIL CODE 583']"
      ]
     },
     "execution_count": 39,
     "metadata": {},
     "output_type": "execute_result"
    }
   ],
   "source": [
    "relevant_documents = extract_source_documents(response)\n",
    "relevant_documents"
   ]
  },
  {
   "cell_type": "code",
   "execution_count": 27,
   "metadata": {},
   "outputs": [],
   "source": [
    "divorce = RetrievalQA.from_chain_type(llm = llm ,chain_type=\"stuff\",retriever=div_retriever,chain_type_kwargs=div_kwargs)"
   ]
  },
  {
   "cell_type": "code",
   "execution_count": 29,
   "metadata": {},
   "outputs": [],
   "source": [
    "out_examples = [\n",
    "  {\n",
    "    \"question\": \"How is the weather today?\",\n",
    "    \"answer\": \n",
    "\"\"\"\n",
    "I am a virtual assistant specialized in the Italian Civil Code regulating Inheritance or Division of Assests after Divorce , \n",
    "ask a question in the context of these two topics. If your question was related to such topics , please try to rephrase it.\n",
    "\"\"\"\n",
    "  },\n",
    "  {\n",
    "    \"question\": \"Can you suggest the most beatiful cities to visit in Italy?\",\n",
    "    \"answer\": \n",
    "\"\"\"\n",
    "I am a virtual assistant specialized in the Italian Civil Code regulating Inheritance or Division of Assests after Divorce , \n",
    "ask a question in the context of these two topics. If your question was related to such topics , please try to rephrase it.\n",
    "\"\"\"\n",
    "  },\n",
    "  {\n",
    "    \"question\": \"What is the currency of Japan?\",\n",
    "    \"answer\":\n",
    "\"\"\"\n",
    "I am a virtual assistant specialized in the Italian Civil Code regulating Inheritance or Division of Assests after Divorce , \n",
    "ask a question in the context of these two topics. If your question was related to such topics , please try to rephrase it.\n",
    "\"\"\"\n",
    "  }\n",
    "]"
   ]
  },
  {
   "cell_type": "code",
   "execution_count": 30,
   "metadata": {},
   "outputs": [],
   "source": [
    "out_prompt = PromptTemplate(\n",
    "    input_variables=[\"question\", \"answer\"],\n",
    "    template=\"Example Input: {question}\\nExample Output: {answer}\",\n",
    ")"
   ]
  },
  {
   "cell_type": "code",
   "execution_count": 31,
   "metadata": {},
   "outputs": [],
   "source": [
    "example_selector_out = SemanticSimilarityExampleSelector.from_examples(\n",
    "    # This is the list of examples available to select from.\n",
    "    out_examples, \n",
    "    \n",
    "    # This is the embedding class used to produce embeddings which are used to measure semantic similarity.\n",
    "    embedder, \n",
    "    \n",
    "    # This is the VectorStore class that is used to store the embeddings and do a similarity search over.\n",
    "    Chroma, \n",
    "    \n",
    "    # This is the number of examples to produce.\n",
    "    k=3\n",
    ")"
   ]
  },
  {
   "cell_type": "code",
   "execution_count": 32,
   "metadata": {},
   "outputs": [],
   "source": [
    "out_few_prompt = FewShotPromptTemplate(\n",
    "    example_selector=example_selector_out,\n",
    "    example_prompt=out_prompt, \n",
    "    suffix=\"Question: {question}\", \n",
    "    input_variables=[\"question\"]\n",
    ")"
   ]
  },
  {
   "cell_type": "code",
   "execution_count": 33,
   "metadata": {},
   "outputs": [],
   "source": [
    "outofscope = LLMChain(llm=llm,prompt=out_few_prompt)"
   ]
  },
  {
   "cell_type": "code",
   "execution_count": 70,
   "metadata": {},
   "outputs": [
    {
     "name": "stdout",
     "output_type": "stream",
     "text": [
      "Example Input: How is the weather today?\n",
      "Example Output: \n",
      "I am a virtual assistant specialized in the Italian Civil Code regulating Inheritance or Division of Assests after Divorce , \n",
      "ask a question in the context of these two topics. If your question was related to such topics , please try to rephrase it.\n",
      "\n",
      "\n",
      "Example Input: Can you suggest the most beatiful cities to visit in Italy?\n",
      "Example Output: \n",
      "I am a virtual assistant specialized in the Italian Civil Code regulating Inheritance or Division of Assests after Divorce , \n",
      "ask a question in the context of these two topics. If your question was related to such topics , please try to rephrase it.\n",
      "\n",
      "\n",
      "Example Input: What is the currency of Japan?\n",
      "Example Output: \n",
      "I am a virtual assistant specialized in the Italian Civil Code regulating Inheritance or Division of Assests after Divorce , \n",
      "ask a question in the context of these two topics. If your question was related to such topics , please try to rephrase it.\n",
      "\n",
      "\n",
      "Question: What is the band name whose singer is called Robert Plant?\n"
     ]
    }
   ],
   "source": [
    "print(out_few_prompt.format(question=\"What is the band name whose singer is called Robert Plant?\"))"
   ]
  },
  {
   "cell_type": "code",
   "execution_count": 73,
   "metadata": {},
   "outputs": [],
   "source": [
    "response = outofscope({\"question\":\"What is the color of the sky?\"})"
   ]
  },
  {
   "cell_type": "code",
   "execution_count": 74,
   "metadata": {},
   "outputs": [
    {
     "name": "stdout",
     "output_type": "stream",
     "text": [
      "{'question': 'What is the color of the sky?', 'text': '\\nI am a virtual assistant specialized in the Italian Civil Code regulating Inheritance or Division of Assests after Divorce , \\nask a question in the context of these two topics. If your question was related to such topics , please try to rephrase it.'}\n"
     ]
    }
   ],
   "source": [
    "print(response)"
   ]
  },
  {
   "cell_type": "markdown",
   "metadata": {},
   "source": [
    "Now we have our chains , let's define the agent"
   ]
  },
  {
   "cell_type": "code",
   "execution_count": 36,
   "metadata": {},
   "outputs": [],
   "source": [
    "def run_chain(input,topics):\n",
    "    topic = topic_chain({\"question\":input,\"topics\":topics})\n",
    "    if \"divorce\" in topic[\"text\"]:\n",
    "        response =  divorce({\"query\":input})\n",
    "    elif \"inheritance\" in topic[\"text\"]:\n",
    "        response = inheritance({\"query\":input})\n",
    "    else:\n",
    "        response = outofscope({\"question\":input})\n",
    "\n",
    "    return response"
   ]
  },
  {
   "cell_type": "code",
   "execution_count": 58,
   "metadata": {},
   "outputs": [],
   "source": [
    "def get_topic(input,topics):\n",
    "    return topic_chain({\"question\":input,\"topics\":topics})"
   ]
  },
  {
   "cell_type": "code",
   "execution_count": 37,
   "metadata": {},
   "outputs": [
    {
     "name": "stderr",
     "output_type": "stream",
     "text": [
      "Your text contains a trailing whitespace, which has been trimmed to ensure high quality generations.\n"
     ]
    }
   ],
   "source": [
    "response = run_chain(\"What happens when I die without making a will?\",topics)"
   ]
  },
  {
   "cell_type": "code",
   "execution_count": 38,
   "metadata": {},
   "outputs": [
    {
     "data": {
      "text/plain": [
       "{'query': 'What happens when I die without making a will?',\n",
       " 'result': '\\nIn the case of dying without a will, all assets will be given to the closest relatives with legal rights.',\n",
       " 'source_documents': [Document(page_content='\\nCIVIL CODE 696 DEVOLUTION TO THE SUBSTITUTED The estate shall devolve to the substitute upon the death of the instituted person. If the persons or entities that took care of the incapacitated person die or become extinct before his or her death, the property or the portion of the property that would accrue to them shall devolve to the legal successors of the incapacitated person.', metadata={'source': 'inheritance\\\\INHERITANCE.txt'}),\n",
       "  Document(page_content=\"\\nCIVIL CODE 734 DIVISION MADE BY THE TESTATOR The testator might divide his property among the heirs by including in the division also the unavailable part. If the division made by the testator does not include all the property left at the time of death, the property not included therein shall be attributed in accordance with the law, unless it appears that the testator's will was otherwise.\", metadata={'source': 'inheritance\\\\INHERITANCE.txt'}),\n",
       "  Document(page_content='\\nCIVIL CODE 583 SUCCESSION OF THE SPOUSE ALONE In the absence of children, ascendants, brothers or sisters, the entire inheritance is devolved to the spouse.', metadata={'source': 'inheritance\\\\INHERITANCE.txt'})]}"
      ]
     },
     "execution_count": 38,
     "metadata": {},
     "output_type": "execute_result"
    }
   ],
   "source": [
    "response"
   ]
  },
  {
   "cell_type": "code",
   "execution_count": 65,
   "metadata": {},
   "outputs": [],
   "source": [
    "topic = get_topic(\"What happens when I die without making a will?\",topics)"
   ]
  },
  {
   "cell_type": "code",
   "execution_count": 66,
   "metadata": {},
   "outputs": [
    {
     "data": {
      "text/plain": [
       "{'question': 'What happens when I die without making a will?',\n",
       " 'topics': 'divorce,inheritance,OutOfScope',\n",
       " 'text': ' inheritance'}"
      ]
     },
     "execution_count": 66,
     "metadata": {},
     "output_type": "execute_result"
    }
   ],
   "source": [
    "topic\n"
   ]
  },
  {
   "cell_type": "code",
   "execution_count": 68,
   "metadata": {},
   "outputs": [
    {
     "data": {
      "text/plain": [
       "False"
      ]
     },
     "execution_count": 68,
     "metadata": {},
     "output_type": "execute_result"
    }
   ],
   "source": [
    "\"inheritance\" in topic"
   ]
  },
  {
   "cell_type": "code",
   "execution_count": null,
   "metadata": {},
   "outputs": [],
   "source": [
    "from langchain.agents import Tool\n",
    "tools = [\n",
    "    Tool(\n",
    "        name='Inheritance search',\n",
    "        func=inheritance.run,\n",
    "        description='Useful when you need to answer questions about the Italian laws regulating the process of inheritance. Always give the source article names and number your question is based on. The input should be a question written given by a non-expert legal person regarding how inheritance works in particular cases'\n",
    "    ),\n",
    "    Tool(\n",
    "        name='Divorce Search',\n",
    "        func=divorce.run,\n",
    "        description='Useful when you need to answer questions about the Italian laws regulation the division of assets after divorce. Always give the source article names and number your question is based on. The input should be a question written given by a non-expert legal person regarding how division of assets after divorce works in particular cases'\n",
    "    ),\n",
    "    Tool(\n",
    "        name='Out-of-scope answer',\n",
    "        func=outofscope.run,\n",
    "        description = 'Useful when the question asked it is not related neither to division of assets after divorce or inheritance.Always remind to the user that he is going out of scope.'\n",
    "    )\n",
    "\n",
    "\n",
    "]"
   ]
  },
  {
   "cell_type": "code",
   "execution_count": null,
   "metadata": {},
   "outputs": [],
   "source": [
    "tool_names=[]\n",
    "for tool in tools:\n",
    "    tool_names.append(tool.name)"
   ]
  },
  {
   "cell_type": "code",
   "execution_count": null,
   "metadata": {},
   "outputs": [],
   "source": [
    "tool_names"
   ]
  },
  {
   "cell_type": "code",
   "execution_count": null,
   "metadata": {},
   "outputs": [],
   "source": [
    "PREFIX = \"\"\"You are an expert legal assistant about the Italian Laws regulating inheritance and division of assets.\"\"\"\n",
    "FORMAT_INSTRUCTIONS = \"\"\"Use the following format:\n",
    "\n",
    "Question: the input question you must answer\n",
    "Thought: you should always think about what to do\n",
    "Action: the action to take, should be one of [{tool_names}]\n",
    "Action Input: the input to the action\n",
    "Observation: the result of the action\n",
    "... (this Thought/Action/Action Input/Observation can repeat N times)\n",
    "Thought: I now know the final answer\n",
    "Final Answer: the final answer to the original input question. Always quote the articles your question is based on.\"\"\"\n",
    "SUFFIX = \"\"\"Begin!\n",
    "\n",
    "Question: {input}\n",
    "Thought:{agent_scratchpad}\"\"\""
   ]
  },
  {
   "cell_type": "code",
   "execution_count": null,
   "metadata": {},
   "outputs": [],
   "source": [
    "from langchain.agents import initialize_agent\n",
    "agent = initialize_agent(tools, llm, agent=\"zero-shot-react-description\", verbose=True, return_intermediate_steps=True,agent_kwargs={\n",
    "        'prefix':PREFIX,\n",
    "        'format_instructions':FORMAT_INSTRUCTIONS,\n",
    "        'suffix':SUFFIX,\n",
    "    })"
   ]
  },
  {
   "cell_type": "code",
   "execution_count": null,
   "metadata": {},
   "outputs": [],
   "source": [
    "response = agent({\"input\":\"What happens when I divorce my wife?\",\n",
    "                    \"tool_names\":tool_names})"
   ]
  },
  {
   "cell_type": "code",
   "execution_count": null,
   "metadata": {},
   "outputs": [],
   "source": []
  },
  {
   "cell_type": "code",
   "execution_count": null,
   "metadata": {},
   "outputs": [],
   "source": []
  },
  {
   "cell_type": "markdown",
   "metadata": {},
   "source": [
    "# STREAMLIT UI # "
   ]
  },
  {
   "cell_type": "code",
   "execution_count": 61,
   "metadata": {},
   "outputs": [
    {
     "name": "stderr",
     "output_type": "stream",
     "text": [
      "2023-07-17 13:34:58.099 \n",
      "  \u001b[33m\u001b[1mWarning:\u001b[0m to view this Streamlit app on a browser, run it with the following\n",
      "  command:\n",
      "\n",
      "    streamlit run c:\\PROGETTI\\uni\\myChatBot\\chat\\Lib\\site-packages\\ipykernel_launcher.py [ARGUMENTS]\n",
      "2023-07-17 13:34:58.100 Session state does not function when running a script without `streamlit run`\n"
     ]
    },
    {
     "ename": "AttributeError",
     "evalue": "st.session_state has no attribute \"past\". Did you forget to initialize it? More info: https://docs.streamlit.io/library/advanced-features/session-state#initialization",
     "output_type": "error",
     "traceback": [
      "\u001b[1;31m---------------------------------------------------------------------------\u001b[0m",
      "\u001b[1;31mKeyError\u001b[0m                                  Traceback (most recent call last)",
      "File \u001b[1;32mc:\\PROGETTI\\uni\\myChatBot\\chat\\Lib\\site-packages\\streamlit\\runtime\\state\\session_state.py:378\u001b[0m, in \u001b[0;36mSessionState.__getitem__\u001b[1;34m(self, key)\u001b[0m\n\u001b[0;32m    377\u001b[0m \u001b[39mtry\u001b[39;00m:\n\u001b[1;32m--> 378\u001b[0m     \u001b[39mreturn\u001b[39;00m \u001b[39mself\u001b[39;49m\u001b[39m.\u001b[39;49m_getitem(widget_id, key)\n\u001b[0;32m    379\u001b[0m \u001b[39mexcept\u001b[39;00m \u001b[39mKeyError\u001b[39;00m:\n",
      "File \u001b[1;32mc:\\PROGETTI\\uni\\myChatBot\\chat\\Lib\\site-packages\\streamlit\\runtime\\state\\session_state.py:423\u001b[0m, in \u001b[0;36mSessionState._getitem\u001b[1;34m(self, widget_id, user_key)\u001b[0m\n\u001b[0;32m    422\u001b[0m \u001b[39m# We'll never get here\u001b[39;00m\n\u001b[1;32m--> 423\u001b[0m \u001b[39mraise\u001b[39;00m \u001b[39mKeyError\u001b[39;00m\n",
      "\u001b[1;31mKeyError\u001b[0m: ",
      "\nDuring handling of the above exception, another exception occurred:\n",
      "\u001b[1;31mKeyError\u001b[0m                                  Traceback (most recent call last)",
      "File \u001b[1;32mc:\\PROGETTI\\uni\\myChatBot\\chat\\Lib\\site-packages\\streamlit\\runtime\\state\\session_state_proxy.py:119\u001b[0m, in \u001b[0;36mSessionStateProxy.__getattr__\u001b[1;34m(self, key)\u001b[0m\n\u001b[0;32m    118\u001b[0m \u001b[39mtry\u001b[39;00m:\n\u001b[1;32m--> 119\u001b[0m     \u001b[39mreturn\u001b[39;00m \u001b[39mself\u001b[39;49m[key]\n\u001b[0;32m    120\u001b[0m \u001b[39mexcept\u001b[39;00m \u001b[39mKeyError\u001b[39;00m:\n",
      "File \u001b[1;32mc:\\PROGETTI\\uni\\myChatBot\\chat\\Lib\\site-packages\\streamlit\\runtime\\state\\session_state_proxy.py:90\u001b[0m, in \u001b[0;36mSessionStateProxy.__getitem__\u001b[1;34m(self, key)\u001b[0m\n\u001b[0;32m     89\u001b[0m require_valid_user_key(key)\n\u001b[1;32m---> 90\u001b[0m \u001b[39mreturn\u001b[39;00m get_session_state()[key]\n",
      "File \u001b[1;32mc:\\PROGETTI\\uni\\myChatBot\\chat\\Lib\\site-packages\\streamlit\\runtime\\state\\safe_session_state.py:113\u001b[0m, in \u001b[0;36mSafeSessionState.__getitem__\u001b[1;34m(self, key)\u001b[0m\n\u001b[0;32m    111\u001b[0m     \u001b[39mraise\u001b[39;00m \u001b[39mKeyError\u001b[39;00m(key)\n\u001b[1;32m--> 113\u001b[0m \u001b[39mreturn\u001b[39;00m \u001b[39mself\u001b[39;49m\u001b[39m.\u001b[39;49m_state[key]\n",
      "File \u001b[1;32mc:\\PROGETTI\\uni\\myChatBot\\chat\\Lib\\site-packages\\streamlit\\runtime\\state\\session_state.py:380\u001b[0m, in \u001b[0;36mSessionState.__getitem__\u001b[1;34m(self, key)\u001b[0m\n\u001b[0;32m    379\u001b[0m \u001b[39mexcept\u001b[39;00m \u001b[39mKeyError\u001b[39;00m:\n\u001b[1;32m--> 380\u001b[0m     \u001b[39mraise\u001b[39;00m \u001b[39mKeyError\u001b[39;00m(_missing_key_error_message(key))\n",
      "\u001b[1;31mKeyError\u001b[0m: 'st.session_state has no key \"past\". Did you forget to initialize it? More info: https://docs.streamlit.io/library/advanced-features/session-state#initialization'",
      "\nDuring handling of the above exception, another exception occurred:\n",
      "\u001b[1;31mAttributeError\u001b[0m                            Traceback (most recent call last)",
      "Cell \u001b[1;32mIn[61], line 49\u001b[0m\n\u001b[0;32m     46\u001b[0m \u001b[39mif\u001b[39;00m user_input:\n\u001b[0;32m     47\u001b[0m     output \u001b[39m=\u001b[39m run_chain(user_input,topics)\n\u001b[1;32m---> 49\u001b[0m     st\u001b[39m.\u001b[39;49msession_state\u001b[39m.\u001b[39;49mpast\u001b[39m.\u001b[39mappend(user_input)\n\u001b[0;32m     50\u001b[0m     st\u001b[39m.\u001b[39msession_state\u001b[39m.\u001b[39mgenerated\u001b[39m.\u001b[39mappend(output)\n\u001b[0;32m     52\u001b[0m \u001b[39mif\u001b[39;00m st\u001b[39m.\u001b[39msession_state[\u001b[39m\"\u001b[39m\u001b[39mgenerated\u001b[39m\u001b[39m\"\u001b[39m]:\n",
      "File \u001b[1;32mc:\\PROGETTI\\uni\\myChatBot\\chat\\Lib\\site-packages\\streamlit\\runtime\\state\\session_state_proxy.py:121\u001b[0m, in \u001b[0;36mSessionStateProxy.__getattr__\u001b[1;34m(self, key)\u001b[0m\n\u001b[0;32m    119\u001b[0m     \u001b[39mreturn\u001b[39;00m \u001b[39mself\u001b[39m[key]\n\u001b[0;32m    120\u001b[0m \u001b[39mexcept\u001b[39;00m \u001b[39mKeyError\u001b[39;00m:\n\u001b[1;32m--> 121\u001b[0m     \u001b[39mraise\u001b[39;00m \u001b[39mAttributeError\u001b[39;00m(_missing_attr_error_message(key))\n",
      "\u001b[1;31mAttributeError\u001b[0m: st.session_state has no attribute \"past\". Did you forget to initialize it? More info: https://docs.streamlit.io/library/advanced-features/session-state#initialization"
     ]
    }
   ],
   "source": [
    "import streamlit as st\n",
    "from streamlit_chat import message\n",
    "\n",
    "topics = \"divorce,inheritance,OutOfScope\"\n",
    "\n",
    "def run_chain(input,topics):\n",
    "    topic = topic_chain({\"question\":input,\"topics\":topics})\n",
    "    if \"divorce\" in topic:\n",
    "        response =  divorce({\"question\":input})\n",
    "    elif \"inheritance\" in topic:\n",
    "        response = inheritance({\"question\":input})\n",
    "    else:\n",
    "        response = outofscope({\"question\":input})\n",
    "\n",
    "    return response\n",
    "\n",
    "def get_topic(input,topics):\n",
    "    return topic_chain({\"question\":input,\"topics\":topics})\n",
    "\n",
    "def extract_source_documents(response : dict):\n",
    "    source_documents = [elem.page_content for elem in response[\"source_documents\"]]\n",
    "    relevant_documents =[\" \".join(elem.split()[:3]) for elem in source_documents]\n",
    "    return relevant_documents\n",
    "\n",
    "def extract_text(response):\n",
    "    return response[\"text\"]\n",
    "\n",
    "\n",
    "st.set_page_config(page_title=\"LangChain Demo\", page_icon=\":robot:\")\n",
    "st.header(\"LangChain Demo\")\n",
    "\n",
    "if \"generated\" not in st.session_state:\n",
    "    st.session_state[\"generated\"] = []\n",
    "\n",
    "if \"past\" not in st.session_state:\n",
    "    st.session_state[\"past\"] = []\n",
    "\n",
    "\n",
    "def get_text():\n",
    "    input_text = st.text_input(\"You: \", \"Hello, how are you?\", key=\"input\")\n",
    "    return input_text\n",
    "\n",
    "\n",
    "user_input = get_text()\n",
    "\n",
    "if user_input:\n",
    "    output = run_chain(user_input,topics)\n",
    "\n",
    "    st.session_state.past.append(user_input)\n",
    "    st.session_state.generated.append(output)\n",
    "\n",
    "if st.session_state[\"generated\"]:\n",
    "\n",
    "    for i in range(len(st.session_state[\"generated\"]) - 1, -1, -1):\n",
    "        message(st.session_state[\"generated\"][i], key=str(i))\n",
    "        message(st.session_state[\"past\"][i], is_user=True, key=str(i) + \"_user\")"
   ]
  },
  {
   "cell_type": "code",
   "execution_count": null,
   "metadata": {},
   "outputs": [],
   "source": []
  }
 ],
 "metadata": {
  "kernelspec": {
   "display_name": "langchain-env",
   "language": "python",
   "name": "python3"
  },
  "language_info": {
   "codemirror_mode": {
    "name": "ipython",
    "version": 3
   },
   "file_extension": ".py",
   "mimetype": "text/x-python",
   "name": "python",
   "nbconvert_exporter": "python",
   "pygments_lexer": "ipython3",
   "version": "3.11.4"
  },
  "orig_nbformat": 4
 },
 "nbformat": 4,
 "nbformat_minor": 2
}
