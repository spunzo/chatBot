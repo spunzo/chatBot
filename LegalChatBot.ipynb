{
 "cells": [
  {
   "cell_type": "code",
   "execution_count": 29,
   "metadata": {},
   "outputs": [],
   "source": [
    "#!pip install langchain==0.0.228\n",
    "#!pip install cohere\n",
    "# !pip install python-dotenv\n",
    "#!pip install unstructured\n",
    "#!pip install chromadb==0.3.26\n",
    "#!pip install streamlit\n",
    "#!pip install streamlit_chat\n"
   ]
  },
  {
   "cell_type": "code",
   "execution_count": 30,
   "metadata": {},
   "outputs": [],
   "source": [
    "from langchain.embeddings.cohere import CohereEmbeddings\n",
    "from langchain.vectorstores import Chroma\n",
    "from langchain.text_splitter import RecursiveCharacterTextSplitter\n",
    "from langchain.llms import Cohere\n",
    "from langchain.chains import RetrievalQA , LLMChain\n",
    "from langchain.document_loaders import DirectoryLoader\n",
    "from langchain import PromptTemplate,FewShotPromptTemplate\n",
    "import os\n",
    "from langchain.prompts.example_selector import SemanticSimilarityExampleSelector\n",
    "\n"
   ]
  },
  {
   "cell_type": "code",
   "execution_count": 31,
   "metadata": {},
   "outputs": [],
   "source": [
    "from dotenv import load_dotenv\n",
    "import os\n",
    "\n",
    "load_dotenv()\n",
    "\n",
    "openai_api_key = os.getenv('OPENAI_API_KEY', 'YourAPIKeyIfNotSet')"
   ]
  },
  {
   "cell_type": "code",
   "execution_count": 32,
   "metadata": {},
   "outputs": [],
   "source": [
    "cohere_api_key = os.getenv('COHERE_API_KEY', 'YourAPIKeyIfNotSet')"
   ]
  },
  {
   "cell_type": "markdown",
   "metadata": {},
   "source": [
    "# DIRECTORY LOADERS #"
   ]
  },
  {
   "cell_type": "code",
   "execution_count": 33,
   "metadata": {},
   "outputs": [],
   "source": [
    "inh_loader = DirectoryLoader('./inheritance', glob='*.txt')\n",
    "div_loader = DirectoryLoader('./divorce', glob='*.txt')\n",
    "\n"
   ]
  },
  {
   "cell_type": "code",
   "execution_count": 34,
   "metadata": {},
   "outputs": [],
   "source": [
    "inh_documents = inh_loader.load()\n",
    "div_documents = div_loader.load()"
   ]
  },
  {
   "cell_type": "code",
   "execution_count": 35,
   "metadata": {},
   "outputs": [
    {
     "name": "stdout",
     "output_type": "stream",
     "text": [
      "1\n",
      "1\n"
     ]
    }
   ],
   "source": [
    "print(len(inh_documents))\n",
    "print(len(div_documents))"
   ]
  },
  {
   "cell_type": "markdown",
   "metadata": {},
   "source": [
    "# RecursiveCharacterTextSplitter #\n",
    "## questo textsplitter con chunk size 100 non spezzerà le leggi in quanto la priorità di splitting è quella di mantenere paragrafi nello stesso documento #"
   ]
  },
  {
   "cell_type": "code",
   "execution_count": 36,
   "metadata": {},
   "outputs": [],
   "source": [
    "text_splitter = RecursiveCharacterTextSplitter(separators=[\"\\n\\n\",\"\\n\"],chunk_size=100, chunk_overlap=0)"
   ]
  },
  {
   "cell_type": "code",
   "execution_count": 37,
   "metadata": {},
   "outputs": [],
   "source": [
    "inh_chunks = text_splitter.split_documents(inh_documents)\n",
    "div_chunks = text_splitter.split_documents(div_documents)\n",
    "\n"
   ]
  },
  {
   "cell_type": "code",
   "execution_count": 38,
   "metadata": {},
   "outputs": [
    {
     "data": {
      "text/plain": [
       "[Document(page_content='\\nCIVIL CODE 465 UNWORTHINESS OF THE PARENT One who is excluded by indignity from the succession does not have on the property thereof which is devolved to his children, the rights of usufruct or administration which the law grants to parents.', metadata={'source': 'inheritance\\\\INHERITANCE.txt'}),\n",
       " Document(page_content='\\nCIVIL CODE 466 REHABILITATION OF THE UNWORTHY A person who has incurred indignity is admitted to succession when the person, whose succession is involved, has expressly enabled him to do so by public deed or will. However, the unworthy person who is not expressly authorized, if he was contemplated in the will when the testator knew the cause of the unworthiness, is admitted to succession within the limits of the testamentary provision.', metadata={'source': 'inheritance\\\\INHERITANCE.txt'}),\n",
       " Document(page_content='\\nCIVIL CODE 467 NOTION Representation causes descendants to succeed to the place and degree of their ascendant in all cases in which the ascendant is unable or unwilling to accept the inheritance or legacy. There is representation in testamentary succession when the testator has not provided for the case in which the person instituted cannot or will not accept the inheritance or legacy, and provided that it is not a legacy of usufruct or other right of a personal nature.', metadata={'source': 'inheritance\\\\INHERITANCE.txt'}),\n",
       " Document(page_content='\\nCIVIL CODE 468 SUBJECTS Representation takes place, in the direct line, in favor of the descendants of the children, including adopted children, and, in the collateral line, in favor of the descendants of the brothers and sisters of the deceased. Descendants may succeed by representation even if they have renounced the inheritance of the person in whose place they succeed, or are incapable or unworthy of succeeding in respect of that person.', metadata={'source': 'inheritance\\\\INHERITANCE.txt'}),\n",
       " Document(page_content='\\nCIVIL CODE 469 EXTENSION OF THE RIGHT OF REPRESENTATION. DIVISION. Representation takes place in infinity, be the degree of descendants and their number in each lineage equal or unequal. Representation also takes place in the case of unicity of lineage. When there is representation, division takes place by lineages. If a lineage has produced several branches, the division takes place by lineages also in each branch, and by heads among the members of the same branch.', metadata={'source': 'inheritance\\\\INHERITANCE.txt'}),\n",
       " Document(page_content='\\nCIVIL CODE 470 PURE AND SIMPLE ACCEPTANCE AND ACCEPTANCE WITH BENEFIT OF INVENTORY The inheritance may be accepted purely and simply or with the benefit of inventory. Acceptance with the benefit of inventory may be made notwithstanding any prohibition of the testator.', metadata={'source': 'inheritance\\\\INHERITANCE.txt'}),\n",
       " Document(page_content='\\nCIVIL CODE 471 INHERITANCES DEVOLVED TO MINORS OR INTERDICTS Inheritances devolved to minors and interdicts can not be accepted except with the benefit of inventory.', metadata={'source': 'inheritance\\\\INHERITANCE.txt'}),\n",
       " Document(page_content='\\nCIVIL CODE 472 INHERITANCES DEVOLVED TO EMANCIPATED MINORS OR INCAPACITATED PERSONS Emancipated minors and incapacitated persons can not accept inheritances except with the benefit of inventory, observing the provisions of ART394.', metadata={'source': 'inheritance\\\\INHERITANCE.txt'}),\n",
       " Document(page_content='\\nCIVIL CODE 473 INHERITANCES DEVOLVED TO LEGAL PERSONS OR TO UNRECOGNIZED ASSOCIATIONS, FOUNDATIONS AND BODIES The acceptance of inheritances devolved to legal persons or to associations, foundations and unrecognized entities is made only with the benefit of inventory. This article does not apply to corporations.', metadata={'source': 'inheritance\\\\INHERITANCE.txt'}),\n",
       " Document(page_content='CIVIL CODE 474 WAYS OF ACCEPTANCE Acceptance may be explicit or tacit.', metadata={'source': 'inheritance\\\\INHERITANCE.txt'})]"
      ]
     },
     "execution_count": 38,
     "metadata": {},
     "output_type": "execute_result"
    }
   ],
   "source": [
    "inh_chunks[10:20]"
   ]
  },
  {
   "cell_type": "code",
   "execution_count": 39,
   "metadata": {},
   "outputs": [
    {
     "data": {
      "text/plain": [
       "[Document(page_content=\"\\nCIVIL CODE 170 EXECUTION ON FUND PROPERTY Execution on the fund's property or its fruits can not be levied for debts which the creditor knew to have been contracted for purposes extraneous to the needs of the family.\", metadata={'source': 'divorce\\\\DIVISION OF ASSETS AFTER DIVORCE.txt'}),\n",
       " Document(page_content='\\nCIVIL CODE 171 TERMINATION OF THE FUND The destination of the fund terminates upon annulment or dissolution or cessation of the civil effects of the marriage. If there are minor children the fund lasts until the last child comes of age. In such a case the court may, at the request of any interested party, lay down rules for the administration of the fund. Having regard to the economic conditions of the parents and the children and any other circumstances, the court may also assign to the children, in enjoyment or ownership, a share in the property of the estate. If there are no children, the provisions on the dissolution of legal community apply.', metadata={'source': 'divorce\\\\DIVISION OF ASSETS AFTER DIVORCE.txt'}),\n",
       " Document(page_content=\"\\nCIVIL CODE 177 OBJECT OF COMMUNITY The goods of the communion are: (a) property acquired by the spouses together or separately during the marriage, except for personal goods; (b) the fruits of the property belonging to each of the spouses, received and not consumed at the dissolution of community; (c) the fruits of a spouse's personal activities provided that, at the time of the dissolution of the community of property, they still exists; (d) companies managed by both spouses and established after the marriage. In the case of companies owned by one of the spouses before the marriage but managed by both, community only concerns profits and increases.\", metadata={'source': 'divorce\\\\DIVISION OF ASSETS AFTER DIVORCE.txt'}),\n",
       " Document(page_content='\\nCIVIL CODE 178 ASSETS INTENDED FOR THE OPERATION OF BUSINESS Assets intended for the operation of the enterprise of one of the spouses set up after the marriage and the assets of the enterprise set up even earlier are considered to be goods of community only if they exist at the time of its dissolution.', metadata={'source': 'divorce\\\\DIVISION OF ASSETS AFTER DIVORCE.txt'}),\n",
       " Document(page_content=\"\\nCIVIL CODE 179 PERSONAL PROPERTY They do not constitute objects of community and are personal property of the spouse: (a) property owned by the spouse before the marriage or had a right in rem to enjoy; (b) property acquired after marriage by way of gift or inheritance, where it is not specified in the gift deed or will that it is to be allocated to the community; (c) property for the strictly personal use of each spouse and its accessories; (d) property used in the exercise of the spouse's profession, except property used for the purpose of running a business forming part of the community; (e) property obtained by way of damages as well as the pension relating to the partial or total loss of the capacity to work; (f) goods acquired with the price of the transfer of the personal property listed above or by exchange thereof, provided that this is expressly stated at the time of purchase. The acquisition of real property, or of movable property listed in Article 2683, made after the marriage, shall be excluded from community of property, within the meaning of points (c), (d) and (f) of the preceding paragraph, where such exclusion is apparent from the deed of acquisition if the other spouse was also a party to it.\", metadata={'source': 'divorce\\\\DIVISION OF ASSETS AFTER DIVORCE.txt'}),\n",
       " Document(page_content='\\nCIVIL CODE 180 ADMINISTRATION OF COMMUNITY PROPERTY The administration of the community property and the representation in court for acts relating thereto belong separately to both spouses. The performance of acts beyond ordinary administration, as well as the conclusion of contracts granting or acquiring personal rights of enjoyment and the representation in court for related actions are jointly entitled to both spouses.', metadata={'source': 'divorce\\\\DIVISION OF ASSETS AFTER DIVORCE.txt'}),\n",
       " Document(page_content='\\nCIVIL CODE 181 REFUSAL OF CONSENT If one of the spouses refuses to give consent for the conclusion of an act of extraordinary administration or for other acts for which consent is required, the other spouse may apply to the court to obtain authorisation if the conclusion of the act is necessary in the interest of the family or the business which, in accordance with Article 177(d), forms part of the community.', metadata={'source': 'divorce\\\\DIVISION OF ASSETS AFTER DIVORCE.txt'}),\n",
       " Document(page_content='\\nCIVIL CODE 182 ADMINISTRATION ENTRUSTED TO ONLY ONE OF THE SPOUSES In the event of the distance or other impediment of one of the spouses, the other, in the absence of a power of attorney(2) from the former evidenced by a public document or by an authenticated private contract, may, with the authorisation of the court and subject to such precautions as the court may prescribe, carry out the necessary acts for which the consent of both spouses is required under Article 180. In the case of joint management of a business, one of the spouses may be delegated by the other to perform all acts necessary for the business.', metadata={'source': 'divorce\\\\DIVISION OF ASSETS AFTER DIVORCE.txt'}),\n",
       " Document(page_content='\\nCIVIL CODE 183 EXCLUSION FROM ADMINISTRATION If one of the spouses is a minor or cannot administer or has mismanaged, the other spouse may ask the court to exclude him/her from the administration. The spouse deprived of the administration may apply to the court for reinstatement if the grounds for exclusion have ceased to exist. The exclusion takes effect as of right with regard to the disqualified spouse and remains in force until the disqualification ceases.', metadata={'source': 'divorce\\\\DIVISION OF ASSETS AFTER DIVORCE.txt'}),\n",
       " Document(page_content=\"\\nCIVIL CODE 184 ACTS PERFORMED WITHOUT THE NECESSARY CONSENT Acts performed by one spouse without the necessary consent of the other spouse and not validated by the latter are voidable if they concern real property or movable property listed in Article 2683 (i.e.,1) ships and floating vessels registered in the registers indicated in the Code of Navigation 2) aircraft entered in the registers indicated in the same code;3) motor vehicles entered in the public register of motor vehicles). The action may be brought by the spouse whose consent was required within one year of the date on which he/she became aware of the act and in any event within one year of the date of transcription. If the act has not been transcribed and the spouse did not have knowledge of it before the dissolution of the community, the action may not be brought later than one year after the dissolution of the community. If the acts relate to movable property other than that referred to in the first paragraph(3), the spouse who has performed them without the consent of the other is obliged, at the latter's request, to restore the community in the state in which it was before the act was performed or, if this is not possible, to pay the equivalent in accordance with the current values at the time of the restoration of community\", metadata={'source': 'divorce\\\\DIVISION OF ASSETS AFTER DIVORCE.txt'})]"
      ]
     },
     "execution_count": 39,
     "metadata": {},
     "output_type": "execute_result"
    }
   ],
   "source": [
    "div_chunks[10:20]"
   ]
  },
  {
   "cell_type": "code",
   "execution_count": 40,
   "metadata": {},
   "outputs": [
    {
     "name": "stdout",
     "output_type": "stream",
     "text": [
      "Now you have 305 documents that have an average of 440 characters (smaller pieces)\n"
     ]
    }
   ],
   "source": [
    "num_total_characters = sum([len(x.page_content) for x in inh_chunks])\n",
    "\n",
    "print (f\"Now you have {len(inh_chunks)} documents that have an average of {num_total_characters / len(inh_chunks):,.0f} characters (smaller pieces)\")"
   ]
  },
  {
   "cell_type": "code",
   "execution_count": 41,
   "metadata": {},
   "outputs": [
    {
     "name": "stdout",
     "output_type": "stream",
     "text": [
      "Now you have 50 documents that have an average of 561 characters (smaller pieces)\n"
     ]
    }
   ],
   "source": [
    "num_total_characters = sum([len(x.page_content) for x in div_chunks])\n",
    "\n",
    "print (f\"Now you have {len(div_chunks)} documents that have an average of {num_total_characters / len(div_chunks):,.0f} characters (smaller pieces)\")"
   ]
  },
  {
   "cell_type": "markdown",
   "metadata": {},
   "source": [
    "#  COHERE #\n",
    "\n",
    "https://dashboard.cohere.ai/\n",
    "\n",
    "Cohere offers an API to add cutting-edge language processing to any system. Cohere trains massive language models and puts them behind a simple API. Moreover, through training, users can create massive models customized to their use case and trained on their data. This way, Cohere handles the complexities of collecting massive amounts of text data, the ever evolving neural network architectures, distributed training, and serving models around the clock."
   ]
  },
  {
   "cell_type": "code",
   "execution_count": 42,
   "metadata": {},
   "outputs": [],
   "source": [
    "from langchain.embeddings import CohereEmbeddings\n",
    "\n",
    "embedder = CohereEmbeddings(model='embed-english-v2.0',cohere_api_key=cohere_api_key)\n"
   ]
  },
  {
   "cell_type": "code",
   "execution_count": 43,
   "metadata": {},
   "outputs": [],
   "source": [
    "inh_persist_dir = 'inh_db'\n",
    "div_persist_dir = 'div_db'"
   ]
  },
  {
   "cell_type": "code",
   "execution_count": 44,
   "metadata": {},
   "outputs": [],
   "source": [
    "inh_docsearch = Chroma.from_documents(documents=inh_chunks, embedding = embedder,persist_directory=inh_persist_dir)\n",
    "inh_docsearch.persist()\n",
    "inh_docsearch = None"
   ]
  },
  {
   "cell_type": "code",
   "execution_count": 45,
   "metadata": {},
   "outputs": [],
   "source": [
    "inh_docsearch = Chroma(persist_directory=inh_persist_dir,embedding_function=embedder)\n"
   ]
  },
  {
   "cell_type": "code",
   "execution_count": 46,
   "metadata": {},
   "outputs": [],
   "source": [
    "inh_retriever = inh_docsearch.as_retriever(search_kwargs={\"k\": 3})\n"
   ]
  },
  {
   "cell_type": "code",
   "execution_count": 47,
   "metadata": {},
   "outputs": [],
   "source": [
    "div_docsearch = Chroma.from_documents(documents=div_chunks, embedding = embedder,persist_directory=div_persist_dir)\n",
    "div_docsearch.persist()\n",
    "div_docsearch = None"
   ]
  },
  {
   "cell_type": "code",
   "execution_count": 48,
   "metadata": {},
   "outputs": [],
   "source": [
    "div_docsearch = Chroma(persist_directory=div_persist_dir,embedding_function=embedder)\n"
   ]
  },
  {
   "cell_type": "code",
   "execution_count": 49,
   "metadata": {},
   "outputs": [],
   "source": [
    "div_retriever = div_docsearch.as_retriever(search_kwargs={\"k\": 3})\n"
   ]
  },
  {
   "cell_type": "code",
   "execution_count": 50,
   "metadata": {},
   "outputs": [
    {
     "data": {
      "text/plain": [
       "[Document(page_content=\"\\nCIVIL PROCEDURE CODE 791 DIVISION PROJECT DRAWN UP BY THE NOTARY The notary draws up single minutes of the transactions carried out. Having drawn up the draft of the shares and lots, if the parties do not agree on it, the notary transmits the minutes to the examining magistrate within five days of their signature. The judge proceeds as in the penultimate paragraph of the preceding article to set the hearing for the parties' appearance and then issue the measures within his jurisdiction pursuant to article 187. Lots may not be extracted except by order of the court made pursuant to the last paragraph of Article 789 or by a final judgment.\", metadata={'source': 'divorce\\\\DIVISION OF ASSETS AFTER DIVORCE.txt'}),\n",
       " Document(page_content=\"\\nCIVIL PROCEDURE CODE 791 DIVISION PROJECT DRAWN UP BY THE NOTARY The notary draws up single minutes of the transactions carried out. Having drawn up the draft of the shares and lots, if the parties do not agree on it, the notary transmits the minutes to the examining magistrate within five days of their signature. The judge proceeds as in the penultimate paragraph of the preceding article to set the hearing for the parties' appearance and then issue the measures within his jurisdiction pursuant to article 187. Lots may not be extracted except by order of the court made pursuant to the last paragraph of Article 789 or by a final judgment.\", metadata={'source': 'divorce\\\\DIVISION OF ASSETS AFTER DIVORCE.txt'}),\n",
       " Document(page_content='\\nCIVIL PROCEDURE CODE 790 DIVISION OPERATIONS BEFORE THE NOTARY If a notary has been delegated to direct the division operations, he gives notice, at least five days in advance, to the joint parties and the intervening creditors of the place, day and hour at which the operations will commence. The proceedings take place in the presence of the parties, assisted, if they so request and at their own expense, by their attorneys. If any dispute arises in the course of the transactions, the notary draws up minutes and transmit them to the examining magistrate. The examining magistrate fixes by decree a hearing for the appearance of the parties, to whom the decree shall be communicated by the Registrar. The court decides on the objections by order.', metadata={'source': 'divorce\\\\DIVISION OF ASSETS AFTER DIVORCE.txt'})]"
      ]
     },
     "execution_count": 50,
     "metadata": {},
     "output_type": "execute_result"
    }
   ],
   "source": [
    "div_retriever.get_relevant_documents(query =\"currency\")"
   ]
  },
  {
   "cell_type": "code",
   "execution_count": null,
   "metadata": {},
   "outputs": [],
   "source": []
  },
  {
   "cell_type": "code",
   "execution_count": 51,
   "metadata": {},
   "outputs": [],
   "source": [
    "llm = Cohere(temperature=0.9,cohere_api_key=cohere_api_key)\n"
   ]
  },
  {
   "cell_type": "code",
   "execution_count": 52,
   "metadata": {},
   "outputs": [],
   "source": [
    "topic_prompt = PromptTemplate(\n",
    "    input_variables=[\"input\", \"output\"],\n",
    "    template=\"Example Input: {input}\\nExample Output: {output}\",\n",
    ")\n",
    "\n",
    "examples = [\n",
    "    {\"input\": \"How is the weather today?\", \"output\": \"OutOfScope\"},\n",
    "    {\"input\": \"I really like eating pizza!\", \"output\": \"OutOfScope\"},\n",
    "    {\"input\": \"Are you a cat-person or a dog-person?\", \"output\": \"OutOfScope\"},\n",
    "    {\"input\": \"Do you like mountain or sea?\", \"output\": \"OutOfScope\"},\n",
    "    {\"input\": \"Can you suggest the most beatiful cities to visit in Italy?\", \"output\": \"OutOfScope\"},\n",
    "    {\"input\": \"What is the currency of Japan?\", \"output\": \"OutOfScope\"},\n",
    "    {\"input\": \"How old is Cristiano Ronaldo?\", \"output\": \"OutOfScope\"},\n",
    "    {\"input\": \"Can you tell me more about this thing?\", \"output\": \"OutOfScope\"},\n",
    "    {\"input\": \"What is America best history site?\", \"output\": \"OutOfScope\"},\n",
    "    {\"input\": \"Today I am sad , can you cheer me up?\", \"output\": \"OutOfScope\"},\n",
    "    {\"input\": \"Can you tell me a joke?\", \"output\": \"OutOfScope\"},\n",
    "    {\"input\": \"I have to divorce from my wife and we have to children , can you give me more information?\", \"output\": \"divorce\"},\n",
    "    {\"input\": \"Me and my wife decided to divorce and we want to know what happens to our 5 mutually owned shops\", \"output\": \"divorce\"},\n",
    "    {\"input\": \"What happens to a family when the parents divorce and they have 2 house a 1 children involved? \", \"output\": \"divorce\"},\n",
    "    {\"input\": \"My grandmother has passed away recently and she inserted me in her final will , what happens now?\", \"output\": \"inheritance\"},\n",
    "    {\"input\": \"My husband died yesterday and my son want to know what should we do with his assets \", \"output\": \"inheritance\"},\n",
    "    {\"input\": \"I am a new legal assistant and I want to learn more about what occurs when a father decide to exclude his son from his will , is there a way to oppose to that?\", \"output\": \"inheritance\"},\n",
    "    {\"input\": \"There is a little baby whose parents don't want to feed anymore because they are separating, what can we do to help her?\", \"output\": \"divorce\"},\n",
    "    {\"input\": \"I am a very old person and I need to write my will , can you tell me more about how to make a will?\", \"output\": \"inheritance\"},\n",
    "]\n"
   ]
  },
  {
   "cell_type": "markdown",
   "metadata": {},
   "source": [
    "# SemanticSimilarityExampleSelector #\n",
    "\n",
    "wordEmbedding vs sentenceEmbedding\n",
    "\n",
    "https://python.langchain.com/docs/modules/model_io/prompts/example_selectors/similarity\n",
    "\n",
    "https://api.python.langchain.com/en/latest/prompts/langchain.prompts.example_selector.semantic_similarity.SemanticSimilarityExampleSelector.html#langchain.prompts.example_selector.semantic_similarity.SemanticSimilarityExampleSelector"
   ]
  },
  {
   "cell_type": "code",
   "execution_count": 53,
   "metadata": {},
   "outputs": [],
   "source": [
    "\n",
    "example_selector = SemanticSimilarityExampleSelector.from_examples(\n",
    "    # This is the list of examples available to select from.\n",
    "    examples, \n",
    "    \n",
    "    # This is the embedding class used to produce embeddings which are used to measure semantic similarity.\n",
    "    embedder, \n",
    "    \n",
    "    # This is the VectorStore class that is used to store the embeddings and do a similarity search over.\n",
    "    Chroma, \n",
    "    \n",
    "    # This is the number of examples to produce.\n",
    "    k=4\n",
    ")"
   ]
  },
  {
   "cell_type": "code",
   "execution_count": 54,
   "metadata": {},
   "outputs": [],
   "source": [
    "topics = \"divorce,inheritance,OutOfScope\""
   ]
  },
  {
   "cell_type": "code",
   "execution_count": 55,
   "metadata": {},
   "outputs": [],
   "source": [
    "topic_prompt = FewShotPromptTemplate(\n",
    "    # The object that will help select examples\n",
    "    example_selector=example_selector,\n",
    "    \n",
    "    # Your prompt\n",
    "    example_prompt=topic_prompt,\n",
    "    \n",
    "    # Customizations that will be added to the top and bottom of your prompt\n",
    "    prefix=\"\"\"You will be given a question and you have to understand to which topic it belongs. The possible topics are {topics} and you will provide as output the topic the question belongs too.\n",
    "If you don't know which topics it belongs you should output 'OutOfScope'. You will be given examples to better understand how to find the right topic.\"\"\",\n",
    "    suffix=\"Input: {question}\\nOutput:\",\n",
    "    \n",
    "    # What inputs your prompt will receive\n",
    "    input_variables=[\"question\",\"topics\"],\n",
    ")"
   ]
  },
  {
   "cell_type": "code",
   "execution_count": 56,
   "metadata": {},
   "outputs": [
    {
     "name": "stdout",
     "output_type": "stream",
     "text": [
      "You will be given a question and you have to understand to which topic it belongs. The possible topics are divorce,inheritance,OutOfScope and you will provide as output the topic the question belongs too.\n",
      "If you don't know which topics it belongs you should output 'OutOfScope'. You will be given examples to better understand how to find the right topic.\n",
      "\n",
      "Example Input: What is America best history site?\n",
      "Example Output: OutOfScope\n",
      "\n",
      "Example Input: I have to divorce from my wife and we have to children , can you give me more information?\n",
      "Example Output: divorce\n",
      "\n",
      "Example Input: I am a new legal assistant and I want to learn more about what occurs when a father decide to exclude his son from his will , is there a way to oppose to that?\n",
      "Example Output: inheritance\n",
      "\n",
      "Example Input: Can you tell me more about this thing?\n",
      "Example Output: OutOfScope\n",
      "\n",
      "Input: What is America finest history site?\n",
      "Output:\n"
     ]
    }
   ],
   "source": [
    "print(topic_prompt.format(question=\"What is America finest history site?\",topics=topics))"
   ]
  },
  {
   "cell_type": "code",
   "execution_count": 57,
   "metadata": {},
   "outputs": [
    {
     "data": {
      "text/plain": [
       "' OutOfScope'"
      ]
     },
     "execution_count": 57,
     "metadata": {},
     "output_type": "execute_result"
    }
   ],
   "source": [
    "llm(topic_prompt.format(question=\"How many laws regulates the fraud?\",topics=topics))\n",
    "\n"
   ]
  },
  {
   "cell_type": "code",
   "execution_count": 18,
   "metadata": {},
   "outputs": [],
   "source": [
    "from langchain.chains import LLMChain\n",
    "\n",
    "topic_chain  = LLMChain(llm=llm,prompt=topic_prompt)"
   ]
  },
  {
   "cell_type": "code",
   "execution_count": 25,
   "metadata": {},
   "outputs": [],
   "source": [
    "myQuestion=\"Do you have a soul?\""
   ]
  },
  {
   "cell_type": "code",
   "execution_count": 26,
   "metadata": {},
   "outputs": [],
   "source": [
    "response = topic_chain.run({\"question\":myQuestion , \"topics\":topics})"
   ]
  },
  {
   "cell_type": "code",
   "execution_count": 27,
   "metadata": {},
   "outputs": [
    {
     "data": {
      "text/plain": [
       "' OutOfScope'"
      ]
     },
     "execution_count": 27,
     "metadata": {},
     "output_type": "execute_result"
    }
   ],
   "source": [
    "response"
   ]
  },
  {
   "cell_type": "code",
   "execution_count": 58,
   "metadata": {},
   "outputs": [],
   "source": [
    "template_inh = \"\"\" You are playing the role of an expert legal assistant in the Italian Laws regulating Inheritance.\n",
    "You will be given the most relevant documents related to a question and you have to examine these documents content and try to summarize an answer based on those.\n",
    "\n",
    "You will be provided with previous messages of the conversation : \n",
    "{chat_history}\n",
    "\n",
    "You will be also provided with some context to base your answer. This is the part you should focus on when drafting your question.\n",
    "{context}\n",
    "\n",
    "Question: {question}\n",
    "\n",
    "Answer: \"\"\"\n",
    "\n",
    "prompt_inh = PromptTemplate(template=template_inh, input_variables=[\"question\",\"chat_history\",\"context\"])\n",
    "\n"
   ]
  },
  {
   "cell_type": "code",
   "execution_count": 59,
   "metadata": {},
   "outputs": [],
   "source": [
    "template_div = \"\"\" You are playing the role of an expert legal assistant in the Italian Laws regulating Inheritance.\n",
    "You will be given the most relevant documents related to a question and you have to examine these documents content and try to summarize an answer based on those.\n",
    "Do not try to force an answer , just say you don't know if you are not sure.\n",
    "\n",
    "You will be provided with previous messages of the conversation : \n",
    "{chat_history}\n",
    "\n",
    "You will be also provided with some context to base your answer. This is the part you should focus on when drafting your question.\n",
    "{context}\n",
    "\n",
    "Question: {question}\n",
    "\n",
    "Answer: \"\"\"\n",
    "\n",
    "prompt_div = PromptTemplate(template=template_div, input_variables=[\"question\",\"context\",\"chat_history\"])\n",
    "\n",
    "div_kwargs = {\"prompt\": prompt_div}"
   ]
  },
  {
   "cell_type": "code",
   "execution_count": 110,
   "metadata": {},
   "outputs": [],
   "source": [
    "from langchain.memory import ConversationBufferWindowMemory\n",
    "\n",
    "memory_inh = ConversationBufferWindowMemory(k=3,memory_key=\"chat_history\", return_messages=True,input_key=\"question\")"
   ]
  },
  {
   "cell_type": "code",
   "execution_count": 111,
   "metadata": {},
   "outputs": [],
   "source": [
    "inh_kwargs = {\"prompt\": prompt_inh,\"memory\":memory_inh}"
   ]
  },
  {
   "cell_type": "markdown",
   "metadata": {},
   "source": [
    "# RETRIEVALQA #\n",
    "\n",
    "https://python.langchain.com/docs/modules/chains/popular/vector_db_qa"
   ]
  },
  {
   "cell_type": "code",
   "execution_count": 112,
   "metadata": {},
   "outputs": [],
   "source": [
    "inheritance = RetrievalQA.from_chain_type(llm = llm,chain_type=\"stuff\",retriever=inh_retriever,chain_type_kwargs=inh_kwargs,return_source_documents=True)\n"
   ]
  },
  {
   "cell_type": "code",
   "execution_count": 113,
   "metadata": {},
   "outputs": [
    {
     "name": "stderr",
     "output_type": "stream",
     "text": [
      "Your text contains a trailing whitespace, which has been trimmed to ensure high quality generations.\n"
     ]
    }
   ],
   "source": [
    "response = inheritance({\"query\" : \"What if I die without a will\"})"
   ]
  },
  {
   "cell_type": "code",
   "execution_count": 114,
   "metadata": {},
   "outputs": [
    {
     "data": {
      "text/plain": [
       "{'query': 'What if I die without a will',\n",
       " 'result': 'If you die without a will in Italy, your spouse will inherit everything.',\n",
       " 'source_documents': [Document(page_content=\"\\nCIVIL CODE 654 LEGACY OF THING NOT EXISTING IN THE ESTATE When the testator has left a particular thing of his or her own, or a thing determined only in kind to be taken from his or her estate, the legacy has no effect if the thing is not in the testator's estate at the time of his or her death. If the thing is in the testator's estate at the time of his death, but not in the quantity determined, the legacy takes effect for the quantity found therein.\", metadata={'source': 'inheritance\\\\INHERITANCE.txt'}),\n",
       "  Document(page_content='\\nCIVIL CODE 583 SUCCESSION OF THE SPOUSE ALONE In the absence of children, ascendants, brothers or sisters, the entire inheritance is devolved to the spouse.', metadata={'source': 'inheritance\\\\INHERITANCE.txt'}),\n",
       "  Document(page_content=\"\\nCIVIL CODE 673 LOSS OF THE THING LEGATED. IMPOSSIBILITY OF PERFORMANCE The legacy has no effect if the thing legated is entirely perished during the testator's lifetime. The obligation of the honoree shall be extinguished if, after the death of the testator, performance has become impossible for reasons not attributable to him.\", metadata={'source': 'inheritance\\\\INHERITANCE.txt'})]}"
      ]
     },
     "execution_count": 114,
     "metadata": {},
     "output_type": "execute_result"
    }
   ],
   "source": [
    "response"
   ]
  },
  {
   "cell_type": "code",
   "execution_count": null,
   "metadata": {},
   "outputs": [],
   "source": []
  },
  {
   "cell_type": "markdown",
   "metadata": {},
   "source": [
    " # ConversationBufferWindowMemory #\n",
    "  keeps a list of the interactions of the conversation over time. It only uses the last K interactions. This can be useful for keeping a sliding window of the most recent interactions, so the buffer does not get too large"
   ]
  },
  {
   "cell_type": "code",
   "execution_count": 87,
   "metadata": {},
   "outputs": [],
   "source": [
    "from langchain.memory import ConversationBufferWindowMemory\n",
    "\n",
    "memory_div = ConversationBufferWindowMemory(k=3,memory_key='chat_history', return_messages=True,input_key='question',output_key='answer')\n",
    "memory_inh = ConversationBufferWindowMemory(k=3,memory_key='chat_history', return_messages=True,input_key='question',output_key='answer')"
   ]
  },
  {
   "cell_type": "code",
   "execution_count": 88,
   "metadata": {},
   "outputs": [],
   "source": [
    "from langchain.chains import ConversationalRetrievalChain\n",
    "\n",
    "inheritance = ConversationalRetrievalChain.from_llm(\n",
    "    llm = llm,\n",
    "    chain_type='stuff',\n",
    "    memory = memory_inh,\n",
    "    retriever=inh_retriever,\n",
    "    condense_question_llm=llm,\n",
    "    return_source_documents=True,\n",
    "    verbose=True,combine_docs_chain_kwargs={\"prompt\":prompt_inh})\n",
    "\n",
    "divorce = ConversationalRetrievalChain.from_llm(\n",
    "    llm = llm,\n",
    "    chain_type='stuff',\n",
    "    memory = memory_div,\n",
    "    retriever=div_retriever,\n",
    "    condense_question_llm=llm,\n",
    "    return_source_documents=True,\n",
    "    verbose=True)"
   ]
  },
  {
   "cell_type": "code",
   "execution_count": 24,
   "metadata": {},
   "outputs": [
    {
     "data": {
      "text/plain": [
       "langchain.chains.conversational_retrieval.base.ConversationalRetrievalChain"
      ]
     },
     "execution_count": 24,
     "metadata": {},
     "output_type": "execute_result"
    }
   ],
   "source": [
    "type(inheritance)"
   ]
  },
  {
   "cell_type": "code",
   "execution_count": 89,
   "metadata": {},
   "outputs": [
    {
     "name": "stdout",
     "output_type": "stream",
     "text": [
      "\n",
      "\n",
      "\u001b[1m> Entering new  chain...\u001b[0m\n",
      "\n",
      "\n",
      "\u001b[1m> Entering new  chain...\u001b[0m\n",
      "Prompt after formatting:\n",
      "\u001b[32;1m\u001b[1;3m You are playing the role of an expert legal assistant in the Italian Laws regulating Inheritance.\n",
      "You will be given the most relevant documents related to a question and you have to examine these documents content and try to summarize an answer based on those.\n",
      "\n",
      "You will be provided with previous messages of the conversation : \n",
      "\n",
      "\n",
      "You will be also provided with some context to base your answer. This is the part you should focus on when drafting your question.\n",
      "\n",
      "CIVIL CODE 721 SALE OF REAL ESTATE The covenants and conditions of the sale of real estate, if they are not agreed upon by the sharers, shall be established by the judicial authority.\n",
      "\n",
      "\n",
      "CIVIL CODE 731 DIVISIONS BETWEEN LINEAGES The rules on the division of the entire estate shall also be observed in divisions between the members of each lineage.\n",
      "\n",
      "\n",
      "CIVIL CODE 697 FEDECOMMISSARY SUBSTITUTION IN LEGACIES The rules established in this section are also applicable to legacies.\n",
      "\n",
      "Question: Give me more detail about the civil code 217\n",
      "\n",
      "Answer: \u001b[0m\n"
     ]
    },
    {
     "name": "stderr",
     "output_type": "stream",
     "text": [
      "Your text contains a trailing whitespace, which has been trimmed to ensure high quality generations.\n"
     ]
    },
    {
     "name": "stdout",
     "output_type": "stream",
     "text": [
      "\n",
      "\u001b[1m> Finished chain.\u001b[0m\n",
      "\n",
      "\u001b[1m> Finished chain.\u001b[0m\n"
     ]
    }
   ],
   "source": [
    "response = inheritance( {\"question\":\"Give me more detail about the civil code 217\"})"
   ]
  },
  {
   "cell_type": "code",
   "execution_count": 90,
   "metadata": {},
   "outputs": [
    {
     "data": {
      "text/plain": [
       "'According to the Italian Civil Code ( article 217) the rules on the division of the entire estate shall also be observed in divisions between the members of each lineage.\\nIf you have any doubt, you can refer to the entire Italian Civil Code.'"
      ]
     },
     "execution_count": 90,
     "metadata": {},
     "output_type": "execute_result"
    }
   ],
   "source": [
    "response[\"answer\"]"
   ]
  },
  {
   "cell_type": "code",
   "execution_count": 91,
   "metadata": {},
   "outputs": [
    {
     "data": {
      "text/plain": [
       "[Document(page_content='\\nCIVIL CODE 721 SALE OF REAL ESTATE The covenants and conditions of the sale of real estate, if they are not agreed upon by the sharers, shall be established by the judicial authority.', metadata={'source': 'inheritance\\\\INHERITANCE.txt'}),\n",
       " Document(page_content='\\nCIVIL CODE 731 DIVISIONS BETWEEN LINEAGES The rules on the division of the entire estate shall also be observed in divisions between the members of each lineage.', metadata={'source': 'inheritance\\\\INHERITANCE.txt'}),\n",
       " Document(page_content='\\nCIVIL CODE 697 FEDECOMMISSARY SUBSTITUTION IN LEGACIES The rules established in this section are also applicable to legacies.', metadata={'source': 'inheritance\\\\INHERITANCE.txt'})]"
      ]
     },
     "execution_count": 91,
     "metadata": {},
     "output_type": "execute_result"
    }
   ],
   "source": [
    "response[\"source_documents\"]"
   ]
  },
  {
   "cell_type": "code",
   "execution_count": 79,
   "metadata": {},
   "outputs": [
    {
     "name": "stdout",
     "output_type": "stream",
     "text": [
      "\n",
      "\n",
      "\u001b[1m> Entering new  chain...\u001b[0m\n",
      "Prompt after formatting:\n",
      "\u001b[32;1m\u001b[1;3mGiven the following conversation and a follow up question, rephrase the follow up question to be a standalone question, in its original language.\n",
      "\n",
      "Chat History:\n",
      "\n",
      "Human: My wife has been in coma for 12 years , tell me what can I do to divorce from her\n",
      "Assistant: As per Italian Civil Code, a person who has been in coma for 12 years is considered as incapacitated. As per Italian Civil Code, any person who has not been declared incapacitated by law can dispose by will. Hence, you can get a divorce from your wife through a legal will.\n",
      "Follow Up Input: do you think is right for me to do it?\n",
      "Standalone question:\u001b[0m\n",
      "\n",
      "\u001b[1m> Finished chain.\u001b[0m\n",
      "\n",
      "\n",
      "\u001b[1m> Entering new  chain...\u001b[0m\n",
      "\n",
      "\n",
      "\u001b[1m> Entering new  chain...\u001b[0m\n",
      "Prompt after formatting:\n",
      "\u001b[32;1m\u001b[1;3m You are playing the role of an expert legal assistant in the Italian Laws regulating Inheritance.\n",
      "You will be given the most relevant documents related to a question and you have to examine these documents content and try to summarize an answer based on those.\n",
      "\n",
      "You will be provided with previous messages of the conversation : \n",
      "\n",
      "Human: My wife has been in coma for 12 years , tell me what can I do to divorce from her\n",
      "Assistant: As per Italian Civil Code, a person who has been in coma for 12 years is considered as incapacitated. As per Italian Civil Code, any person who has not been declared incapacitated by law can dispose by will. Hence, you can get a divorce from your wife through a legal will.\n",
      "\n",
      "You will be also provided with some context to base your answer. This is the part you should focus on when drafting your question.\n",
      "\n",
      "CIVIL CODE 548 SHARE IN FAVOR OF THE SEPARATING SPOUSE The spouse who has not been charged with separation by a final judgment, pursuant to the second paragraph of ART151, shall have the same inheritance rights as the non-separated spouse. A spouse who has been charged with separation by a final judgment is entitled only to an allowance for life if he or she enjoyed alimony from the deceased spouse at the time of the opening of the succession. The allowance shall be commensurate with the substance of the estate and the quality and number of legitimate heirs, and shall not, in any case, be greater than the amount of alimony enjoyed. The same provision shall apply in cases where the separation has been charged to both spouses.\n",
      "\n",
      "\n",
      "CIVIL CODE 583 SUCCESSION OF THE SPOUSE ALONE In the absence of children, ascendants, brothers or sisters, the entire inheritance is devolved to the spouse.\n",
      "\n",
      "\n",
      "CIVIL CODE 589 JOINT OR RECIPROCAL WILL A will may not be made by two or more persons in the same act, either for the benefit of a third party or by reciprocal disposition.\n",
      "\n",
      "Question: \n",
      "Is it right for me to divorce from my wife through a legal will?\n",
      "\n",
      "Answer: \u001b[0m\n"
     ]
    },
    {
     "name": "stderr",
     "output_type": "stream",
     "text": [
      "Your text contains a trailing whitespace, which has been trimmed to ensure high quality generations.\n"
     ]
    },
    {
     "name": "stdout",
     "output_type": "stream",
     "text": [
      "\n",
      "\u001b[1m> Finished chain.\u001b[0m\n",
      "\n",
      "\u001b[1m> Finished chain.\u001b[0m\n"
     ]
    }
   ],
   "source": [
    "response = inheritance( {\"question\":\"do you think is right for me to do it?\"})"
   ]
  },
  {
   "cell_type": "code",
   "execution_count": 81,
   "metadata": {},
   "outputs": [
    {
     "data": {
      "text/plain": [
       "'\\nYes, it is right for you to divorce from your wife through a legal will. As per Italian Civil Code, a person who has been in coma for 12 years is considered as incapacitated. As per Italian Civil Code, any person who has not been declared incapacitated by law can dispose by will. Hence, you can get a divorce from your wife through a legal will.'"
      ]
     },
     "execution_count": 81,
     "metadata": {},
     "output_type": "execute_result"
    }
   ],
   "source": [
    "response[\"answer\"]"
   ]
  },
  {
   "cell_type": "code",
   "execution_count": 56,
   "metadata": {},
   "outputs": [
    {
     "data": {
      "text/plain": [
       "\"Yes, you can contest your mother's will if she excluded you.\""
      ]
     },
     "execution_count": 56,
     "metadata": {},
     "output_type": "execute_result"
    }
   ],
   "source": [
    "response[\"answer\"]"
   ]
  },
  {
   "cell_type": "code",
   "execution_count": 57,
   "metadata": {},
   "outputs": [
    {
     "data": {
      "text/plain": [
       "[Document(page_content='\\nCIVIL CODE 465 UNWORTHINESS OF THE PARENT One who is excluded by indignity from the succession does not have on the property thereof which is devolved to his children, the rights of usufruct or administration which the law grants to parents.', metadata={'source': 'inheritance\\\\INHERITANCE.txt'}),\n",
       " Document(page_content='\\nCIVIL CODE 471 INHERITANCES DEVOLVED TO MINORS OR INTERDICTS Inheritances devolved to minors and interdicts can not be accepted except with the benefit of inventory.', metadata={'source': 'inheritance\\\\INHERITANCE.txt'}),\n",
       " Document(page_content='\\nCIVIL CODE 472 INHERITANCES DEVOLVED TO EMANCIPATED MINORS OR INCAPACITATED PERSONS Emancipated minors and incapacitated persons can not accept inheritances except with the benefit of inventory, observing the provisions of ART394.', metadata={'source': 'inheritance\\\\INHERITANCE.txt'})]"
      ]
     },
     "execution_count": 57,
     "metadata": {},
     "output_type": "execute_result"
    }
   ],
   "source": [
    "response[\"source_documents\"]"
   ]
  },
  {
   "cell_type": "code",
   "execution_count": 58,
   "metadata": {},
   "outputs": [
    {
     "data": {
      "text/plain": [
       "['CIVIL CODE 465', 'CIVIL CODE 471', 'CIVIL CODE 472']"
      ]
     },
     "execution_count": 58,
     "metadata": {},
     "output_type": "execute_result"
    }
   ],
   "source": [
    "source_documents = [elem.page_content for elem in response[\"source_documents\"]]\n",
    "relevant_documents =[\" \".join(elem.split()[:3]) for elem in source_documents]\n",
    "relevant_documents = list(dict.fromkeys(relevant_documents))\n",
    "relevant_documents"
   ]
  },
  {
   "cell_type": "code",
   "execution_count": 59,
   "metadata": {},
   "outputs": [
    {
     "name": "stdout",
     "output_type": "stream",
     "text": [
      "\n",
      "\n",
      "\u001b[1m> Entering new  chain...\u001b[0m\n",
      "Prompt after formatting:\n",
      "\u001b[32;1m\u001b[1;3mGiven the following conversation and a follow up question, rephrase the follow up question to be a standalone question, in its original language.\n",
      "\n",
      "Chat History:\n",
      "\n",
      "Human: What happens when my mother exclude me from her will?\n",
      "Assistant: \n",
      "The law grants parents the right of usufruct or administration over their children's property. However, if a parent is excluded from the succession by indignity, they do not have this right.\n",
      "Human: Can I contest it?\n",
      "Assistant: Yes, you can contest your mother's will if she excluded you.\n",
      "Follow Up Input: Can you try to provide more detail\n",
      "Standalone question:\u001b[0m\n",
      "\n",
      "\u001b[1m> Finished chain.\u001b[0m\n",
      "\n",
      "\n",
      "\u001b[1m> Entering new  chain...\u001b[0m\n",
      "\n",
      "\n",
      "\u001b[1m> Entering new  chain...\u001b[0m\n",
      "Prompt after formatting:\n",
      "\u001b[32;1m\u001b[1;3m You are playing the role of an expert legal assistant in the Italian Laws regulating Inheritance.\n",
      "You will be given the most relevant documents related to a question and you have to examine these documents content and try to summarize an answer based on those.\n",
      "\n",
      "You will be provided with previous messages of the conversation : \n",
      "\n",
      "Human: What happens when my mother exclude me from her will?\n",
      "Assistant: \n",
      "The law grants parents the right of usufruct or administration over their children's property. However, if a parent is excluded from the succession by indignity, they do not have this right.\n",
      "Human: Can I contest it?\n",
      "Assistant: Yes, you can contest your mother's will if she excluded you.\n",
      "\n",
      "You will be also provided with some context to base your answer. This is the part you should focus on when drafting your question.\n",
      "\n",
      "CIVIL CODE 465 UNWORTHINESS OF THE PARENT One who is excluded by indignity from the succession does not have on the property thereof which is devolved to his children, the rights of usufruct or administration which the law grants to parents.\n",
      "\n",
      "\n",
      "CIVIL CODE 471 INHERITANCES DEVOLVED TO MINORS OR INTERDICTS Inheritances devolved to minors and interdicts can not be accepted except with the benefit of inventory.\n",
      "\n",
      "\n",
      "CIVIL CODE 583 SUCCESSION OF THE SPOUSE ALONE In the absence of children, ascendants, brothers or sisters, the entire inheritance is devolved to the spouse.\n",
      "\n",
      "Question:  Can you provide more detail on what happens when my mother exclude me from her will?\n",
      "\n",
      "Answer: \u001b[0m\n"
     ]
    },
    {
     "name": "stderr",
     "output_type": "stream",
     "text": [
      "Your text contains a trailing whitespace, which has been trimmed to ensure high quality generations.\n"
     ]
    },
    {
     "name": "stdout",
     "output_type": "stream",
     "text": [
      "\n",
      "\u001b[1m> Finished chain.\u001b[0m\n",
      "\n",
      "\u001b[1m> Finished chain.\u001b[0m\n"
     ]
    }
   ],
   "source": [
    "response = inheritance( {\"question\":\"Can you try to provide more detail\"})"
   ]
  },
  {
   "cell_type": "code",
   "execution_count": 61,
   "metadata": {},
   "outputs": [
    {
     "data": {
      "text/plain": [
       "'\\nIf your mother excluded you from her will, you would not be entitled to any usufruct or administration rights over her property. However, you can contest the will.'"
      ]
     },
     "execution_count": 61,
     "metadata": {},
     "output_type": "execute_result"
    }
   ],
   "source": [
    "response[\"answer\"]"
   ]
  },
  {
   "cell_type": "code",
   "execution_count": 100,
   "metadata": {},
   "outputs": [],
   "source": [
    "def extract_source_documents(response : dict):\n",
    "    source_documents = [elem.page_content for elem in response[\"source_documents\"]]\n",
    "    relevant_documents =[\" \".join(elem.split()[:3]) for elem in source_documents]\n",
    "    relevant_documents = list(dict.fromkeys(relevant_documents))\n",
    "    return relevant_documents\n",
    "\n",
    "def extract_text(response):\n",
    "    return response[\"text\"]\n"
   ]
  },
  {
   "cell_type": "code",
   "execution_count": 101,
   "metadata": {},
   "outputs": [
    {
     "data": {
      "text/plain": [
       "['CIVIL CODE 465', 'CIVIL CODE 471']"
      ]
     },
     "execution_count": 101,
     "metadata": {},
     "output_type": "execute_result"
    }
   ],
   "source": [
    "relevant_documents = extract_source_documents(response)\n",
    "relevant_documents"
   ]
  },
  {
   "cell_type": "code",
   "execution_count": 27,
   "metadata": {},
   "outputs": [],
   "source": [
    "divorce = RetrievalQA.from_chain_type(llm = llm ,chain_type=\"stuff\",retriever=div_retriever,chain_type_kwargs=div_kwargs)"
   ]
  },
  {
   "cell_type": "code",
   "execution_count": 29,
   "metadata": {},
   "outputs": [],
   "source": [
    "out_examples = [\n",
    "  {\n",
    "    \"question\": \"How is the weather today?\",\n",
    "    \"answer\": \n",
    "\"\"\"\n",
    "I am a virtual assistant specialized in the Italian Civil Code regulating Inheritance or Division of Assests after Divorce , \n",
    "ask a question in the context of these two topics. If your question was related to such topics , please try to rephrase it.\n",
    "\"\"\"\n",
    "  },\n",
    "  {\n",
    "    \"question\": \"Can you suggest the most beatiful cities to visit in Italy?\",\n",
    "    \"answer\": \n",
    "\"\"\"\n",
    "I am a virtual assistant specialized in the Italian Civil Code regulating Inheritance or Division of Assests after Divorce , \n",
    "ask a question in the context of these two topics. If your question was related to such topics , please try to rephrase it.\n",
    "\"\"\"\n",
    "  },\n",
    "  {\n",
    "    \"question\": \"What is the currency of Japan?\",\n",
    "    \"answer\":\n",
    "\"\"\"\n",
    "I am a virtual assistant specialized in the Italian Civil Code regulating Inheritance or Division of Assests after Divorce , \n",
    "ask a question in the context of these two topics. If your question was related to such topics , please try to rephrase it.\n",
    "\"\"\"\n",
    "  }\n",
    "]"
   ]
  },
  {
   "cell_type": "code",
   "execution_count": 30,
   "metadata": {},
   "outputs": [],
   "source": [
    "out_prompt = PromptTemplate(\n",
    "    input_variables=[\"question\", \"answer\"],\n",
    "    template=\"Example Input: {question}\\nExample Output: {answer}\",\n",
    ")"
   ]
  },
  {
   "cell_type": "code",
   "execution_count": 31,
   "metadata": {},
   "outputs": [],
   "source": [
    "example_selector_out = SemanticSimilarityExampleSelector.from_examples(\n",
    "    # This is the list of examples available to select from.\n",
    "    out_examples, \n",
    "    \n",
    "    # This is the embedding class used to produce embeddings which are used to measure semantic similarity.\n",
    "    embedder, \n",
    "    \n",
    "    # This is the VectorStore class that is used to store the embeddings and do a similarity search over.\n",
    "    Chroma, \n",
    "    \n",
    "    # This is the number of examples to produce.\n",
    "    k=3\n",
    ")"
   ]
  },
  {
   "cell_type": "code",
   "execution_count": 32,
   "metadata": {},
   "outputs": [],
   "source": [
    "out_few_prompt = FewShotPromptTemplate(\n",
    "    example_selector=example_selector_out,\n",
    "    example_prompt=out_prompt, \n",
    "    suffix=\"Question: {question}\", \n",
    "    input_variables=[\"question\"]\n",
    ")"
   ]
  },
  {
   "cell_type": "code",
   "execution_count": 33,
   "metadata": {},
   "outputs": [],
   "source": [
    "outofscope = LLMChain(llm=llm,prompt=out_few_prompt)"
   ]
  },
  {
   "cell_type": "code",
   "execution_count": 70,
   "metadata": {},
   "outputs": [
    {
     "name": "stdout",
     "output_type": "stream",
     "text": [
      "Example Input: How is the weather today?\n",
      "Example Output: \n",
      "I am a virtual assistant specialized in the Italian Civil Code regulating Inheritance or Division of Assests after Divorce , \n",
      "ask a question in the context of these two topics. If your question was related to such topics , please try to rephrase it.\n",
      "\n",
      "\n",
      "Example Input: Can you suggest the most beatiful cities to visit in Italy?\n",
      "Example Output: \n",
      "I am a virtual assistant specialized in the Italian Civil Code regulating Inheritance or Division of Assests after Divorce , \n",
      "ask a question in the context of these two topics. If your question was related to such topics , please try to rephrase it.\n",
      "\n",
      "\n",
      "Example Input: What is the currency of Japan?\n",
      "Example Output: \n",
      "I am a virtual assistant specialized in the Italian Civil Code regulating Inheritance or Division of Assests after Divorce , \n",
      "ask a question in the context of these two topics. If your question was related to such topics , please try to rephrase it.\n",
      "\n",
      "\n",
      "Question: What is the band name whose singer is called Robert Plant?\n"
     ]
    }
   ],
   "source": [
    "print(out_few_prompt.format(question=\"What is the band name whose singer is called Robert Plant?\"))"
   ]
  },
  {
   "cell_type": "code",
   "execution_count": 73,
   "metadata": {},
   "outputs": [],
   "source": [
    "response = outofscope({\"question\":\"What is the color of the sky?\"})"
   ]
  },
  {
   "cell_type": "code",
   "execution_count": 74,
   "metadata": {},
   "outputs": [
    {
     "name": "stdout",
     "output_type": "stream",
     "text": [
      "{'question': 'What is the color of the sky?', 'text': '\\nI am a virtual assistant specialized in the Italian Civil Code regulating Inheritance or Division of Assests after Divorce , \\nask a question in the context of these two topics. If your question was related to such topics , please try to rephrase it.'}\n"
     ]
    }
   ],
   "source": [
    "print(response)"
   ]
  },
  {
   "cell_type": "markdown",
   "metadata": {},
   "source": [
    "Now we have our chains , let's define the agent"
   ]
  },
  {
   "cell_type": "code",
   "execution_count": 36,
   "metadata": {},
   "outputs": [],
   "source": [
    "def run_chain(input,topics):\n",
    "    topic = topic_chain({\"question\":input,\"topics\":topics})\n",
    "    if \"divorce\" in topic[\"text\"]:\n",
    "        response =  divorce({\"query\":input})\n",
    "    elif \"inheritance\" in topic[\"text\"]:\n",
    "        response = inheritance({\"query\":input})\n",
    "    else:\n",
    "        response = outofscope({\"question\":input})\n",
    "\n",
    "    return response"
   ]
  },
  {
   "cell_type": "code",
   "execution_count": 58,
   "metadata": {},
   "outputs": [],
   "source": [
    "def get_topic(input,topics):\n",
    "    return topic_chain({\"question\":input,\"topics\":topics})"
   ]
  },
  {
   "cell_type": "code",
   "execution_count": 37,
   "metadata": {},
   "outputs": [
    {
     "name": "stderr",
     "output_type": "stream",
     "text": [
      "Your text contains a trailing whitespace, which has been trimmed to ensure high quality generations.\n"
     ]
    }
   ],
   "source": [
    "response = run_chain(\"What happens when I die without making a will?\",topics)"
   ]
  },
  {
   "cell_type": "code",
   "execution_count": 38,
   "metadata": {},
   "outputs": [
    {
     "data": {
      "text/plain": [
       "{'query': 'What happens when I die without making a will?',\n",
       " 'result': '\\nIn the case of dying without a will, all assets will be given to the closest relatives with legal rights.',\n",
       " 'source_documents': [Document(page_content='\\nCIVIL CODE 696 DEVOLUTION TO THE SUBSTITUTED The estate shall devolve to the substitute upon the death of the instituted person. If the persons or entities that took care of the incapacitated person die or become extinct before his or her death, the property or the portion of the property that would accrue to them shall devolve to the legal successors of the incapacitated person.', metadata={'source': 'inheritance\\\\INHERITANCE.txt'}),\n",
       "  Document(page_content=\"\\nCIVIL CODE 734 DIVISION MADE BY THE TESTATOR The testator might divide his property among the heirs by including in the division also the unavailable part. If the division made by the testator does not include all the property left at the time of death, the property not included therein shall be attributed in accordance with the law, unless it appears that the testator's will was otherwise.\", metadata={'source': 'inheritance\\\\INHERITANCE.txt'}),\n",
       "  Document(page_content='\\nCIVIL CODE 583 SUCCESSION OF THE SPOUSE ALONE In the absence of children, ascendants, brothers or sisters, the entire inheritance is devolved to the spouse.', metadata={'source': 'inheritance\\\\INHERITANCE.txt'})]}"
      ]
     },
     "execution_count": 38,
     "metadata": {},
     "output_type": "execute_result"
    }
   ],
   "source": [
    "response"
   ]
  },
  {
   "cell_type": "code",
   "execution_count": 65,
   "metadata": {},
   "outputs": [],
   "source": [
    "topic = get_topic(\"What happens when I die without making a will?\",topics)"
   ]
  },
  {
   "cell_type": "code",
   "execution_count": 66,
   "metadata": {},
   "outputs": [
    {
     "data": {
      "text/plain": [
       "{'question': 'What happens when I die without making a will?',\n",
       " 'topics': 'divorce,inheritance,OutOfScope',\n",
       " 'text': ' inheritance'}"
      ]
     },
     "execution_count": 66,
     "metadata": {},
     "output_type": "execute_result"
    }
   ],
   "source": [
    "topic\n"
   ]
  },
  {
   "cell_type": "code",
   "execution_count": 68,
   "metadata": {},
   "outputs": [
    {
     "data": {
      "text/plain": [
       "False"
      ]
     },
     "execution_count": 68,
     "metadata": {},
     "output_type": "execute_result"
    }
   ],
   "source": [
    "\"inheritance\" in topic"
   ]
  },
  {
   "cell_type": "code",
   "execution_count": null,
   "metadata": {},
   "outputs": [],
   "source": [
    "from langchain.agents import Tool\n",
    "tools = [\n",
    "    Tool(\n",
    "        name='Inheritance search',\n",
    "        func=inheritance.run,\n",
    "        description='Useful when you need to answer questions about the Italian laws regulating the process of inheritance. Always give the source article names and number your question is based on. The input should be a question written given by a non-expert legal person regarding how inheritance works in particular cases'\n",
    "    ),\n",
    "    Tool(\n",
    "        name='Divorce Search',\n",
    "        func=divorce.run,\n",
    "        description='Useful when you need to answer questions about the Italian laws regulation the division of assets after divorce. Always give the source article names and number your question is based on. The input should be a question written given by a non-expert legal person regarding how division of assets after divorce works in particular cases'\n",
    "    ),\n",
    "    Tool(\n",
    "        name='Out-of-scope answer',\n",
    "        func=outofscope.run,\n",
    "        description = 'Useful when the question asked it is not related neither to division of assets after divorce or inheritance.Always remind to the user that he is going out of scope.'\n",
    "    )\n",
    "\n",
    "\n",
    "]"
   ]
  },
  {
   "cell_type": "code",
   "execution_count": null,
   "metadata": {},
   "outputs": [],
   "source": [
    "tool_names=[]\n",
    "for tool in tools:\n",
    "    tool_names.append(tool.name)"
   ]
  },
  {
   "cell_type": "code",
   "execution_count": null,
   "metadata": {},
   "outputs": [],
   "source": [
    "tool_names"
   ]
  },
  {
   "cell_type": "code",
   "execution_count": null,
   "metadata": {},
   "outputs": [],
   "source": [
    "PREFIX = \"\"\"You are an expert legal assistant about the Italian Laws regulating inheritance and division of assets.\"\"\"\n",
    "FORMAT_INSTRUCTIONS = \"\"\"Use the following format:\n",
    "\n",
    "Question: the input question you must answer\n",
    "Thought: you should always think about what to do\n",
    "Action: the action to take, should be one of [{tool_names}]\n",
    "Action Input: the input to the action\n",
    "Observation: the result of the action\n",
    "... (this Thought/Action/Action Input/Observation can repeat N times)\n",
    "Thought: I now know the final answer\n",
    "Final Answer: the final answer to the original input question. Always quote the articles your question is based on.\"\"\"\n",
    "SUFFIX = \"\"\"Begin!\n",
    "\n",
    "Question: {input}\n",
    "Thought:{agent_scratchpad}\"\"\""
   ]
  },
  {
   "cell_type": "code",
   "execution_count": null,
   "metadata": {},
   "outputs": [],
   "source": [
    "from langchain.agents import initialize_agent\n",
    "agent = initialize_agent(tools, llm, agent=\"zero-shot-react-description\", verbose=True, return_intermediate_steps=True,agent_kwargs={\n",
    "        'prefix':PREFIX,\n",
    "        'format_instructions':FORMAT_INSTRUCTIONS,\n",
    "        'suffix':SUFFIX,\n",
    "    })"
   ]
  },
  {
   "cell_type": "code",
   "execution_count": null,
   "metadata": {},
   "outputs": [],
   "source": [
    "response = agent({\"input\":\"What happens when I divorce my wife?\",\n",
    "                    \"tool_names\":tool_names})"
   ]
  },
  {
   "cell_type": "code",
   "execution_count": null,
   "metadata": {},
   "outputs": [],
   "source": []
  },
  {
   "cell_type": "code",
   "execution_count": null,
   "metadata": {},
   "outputs": [],
   "source": []
  },
  {
   "cell_type": "markdown",
   "metadata": {},
   "source": [
    "# STREAMLIT UI # "
   ]
  },
  {
   "cell_type": "code",
   "execution_count": null,
   "metadata": {},
   "outputs": [],
   "source": [
    "import streamlit as st\n",
    "from streamlit_chat import message\n",
    "\n",
    "topics = \"divorce,inheritance,OutOfScope\"\n",
    "\n",
    "def run_chain(input,topics):\n",
    "    topic = topic_chain({\"question\":input,\"topics\":topics})\n",
    "    if \"divorce\" in topic:\n",
    "        response =  divorce({\"question\":input})\n",
    "    elif \"inheritance\" in topic:\n",
    "        response = inheritance({\"question\":input})\n",
    "    else:\n",
    "        response = outofscope({\"question\":input})\n",
    "\n",
    "    return response\n",
    "\n",
    "def get_topic(input,topics):\n",
    "    return topic_chain({\"question\":input,\"topics\":topics})\n",
    "\n",
    "def extract_source_documents(response : dict):\n",
    "    source_documents = [elem.page_content for elem in response[\"source_documents\"]]\n",
    "    relevant_documents =[\" \".join(elem.split()[:3]) for elem in source_documents]\n",
    "    return relevant_documents\n",
    "\n",
    "def extract_text(response):\n",
    "    return response[\"text\"]\n",
    "\n",
    "\n",
    "st.set_page_config(page_title=\"LangChain Demo\", page_icon=\":robot:\")\n",
    "st.header(\"LangChain Demo\")\n",
    "\n",
    "if \"generated\" not in st.session_state:\n",
    "    st.session_state[\"generated\"] = []\n",
    "\n",
    "if \"past\" not in st.session_state:\n",
    "    st.session_state[\"past\"] = []\n",
    "\n",
    "\n",
    "def get_text():\n",
    "    input_text = st.text_input(\"You: \", \"Hello, how are you?\", key=\"input\")\n",
    "    return input_text\n",
    "\n",
    "\n",
    "user_input = get_text()\n",
    "\n",
    "if user_input:\n",
    "    output = run_chain(user_input,topics)\n",
    "\n",
    "    st.session_state.past.append(user_input)\n",
    "    st.session_state.generated.append(output)\n",
    "\n",
    "if st.session_state[\"generated\"]:\n",
    "\n",
    "    for i in range(len(st.session_state[\"generated\"]) - 1, -1, -1):\n",
    "        message(st.session_state[\"generated\"][i], key=str(i))\n",
    "        message(st.session_state[\"past\"][i], is_user=True, key=str(i) + \"_user\")"
   ]
  },
  {
   "cell_type": "code",
   "execution_count": null,
   "metadata": {},
   "outputs": [],
   "source": []
  },
  {
   "cell_type": "code",
   "execution_count": null,
   "metadata": {},
   "outputs": [],
   "source": []
  },
  {
   "cell_type": "code",
   "execution_count": null,
   "metadata": {},
   "outputs": [],
   "source": []
  },
  {
   "cell_type": "code",
   "execution_count": null,
   "metadata": {},
   "outputs": [],
   "source": []
  },
  {
   "cell_type": "code",
   "execution_count": null,
   "metadata": {},
   "outputs": [],
   "source": []
  },
  {
   "cell_type": "code",
   "execution_count": null,
   "metadata": {},
   "outputs": [],
   "source": []
  },
  {
   "cell_type": "code",
   "execution_count": null,
   "metadata": {},
   "outputs": [],
   "source": []
  }
 ],
 "metadata": {
  "kernelspec": {
   "display_name": "langchain-env",
   "language": "python",
   "name": "python3"
  },
  "language_info": {
   "codemirror_mode": {
    "name": "ipython",
    "version": 3
   },
   "file_extension": ".py",
   "mimetype": "text/x-python",
   "name": "python",
   "nbconvert_exporter": "python",
   "pygments_lexer": "ipython3",
   "version": "3.11.4"
  },
  "orig_nbformat": 4
 },
 "nbformat": 4,
 "nbformat_minor": 2
}
